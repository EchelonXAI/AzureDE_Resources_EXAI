{
 "cells": [
  {
   "cell_type": "code",
   "execution_count": 0,
   "metadata": {
    "application/vnd.databricks.v1+cell": {
     "cellMetadata": {
      "byteLimit": 2048000,
      "implicitDf": true,
      "rowLimit": 10000
     },
     "inputWidgets": {},
     "nuid": "26fd50ee-627f-4832-8020-7bbe15e93882",
     "showTitle": false,
     "tableResultSettingsMap": {},
     "title": ""
    }
   },
   "outputs": [
    {
     "output_type": "display_data",
     "data": {
      "text/html": [
       "<style scoped>\n",
       "  .table-result-container {\n",
       "    max-height: 300px;\n",
       "    overflow: auto;\n",
       "  }\n",
       "  table, th, td {\n",
       "    border: 1px solid black;\n",
       "    border-collapse: collapse;\n",
       "  }\n",
       "  th, td {\n",
       "    padding: 5px;\n",
       "  }\n",
       "  th {\n",
       "    text-align: left;\n",
       "  }\n",
       "</style><div class='table-result-container'><table class='table-result'><thead style='background-color: white'><tr><th>ADE Training</th></tr></thead><tbody><tr><td>ADE Training</td></tr></tbody></table></div>"
      ]
     },
     "metadata": {
      "application/vnd.databricks.v1+output": {
       "addedWidgets": {},
       "aggData": [],
       "aggError": "",
       "aggOverflow": false,
       "aggSchema": [],
       "aggSeriesLimitReached": false,
       "aggType": "",
       "arguments": {},
       "columnCustomDisplayInfos": {},
       "data": [
        [
         "ADE Training"
        ]
       ],
       "datasetInfos": [],
       "dbfsResultPath": null,
       "isJsonSchema": true,
       "metadata": {
        "dataframeName": "_sqldf",
        "executionCount": 2
       },
       "overflow": false,
       "plotOptions": {
        "customPlotOptions": {},
        "displayType": "table",
        "pivotAggregation": null,
        "pivotColumns": null,
        "xColumns": null,
        "yColumns": null
       },
       "removedWidgets": [],
       "schema": [
        {
         "metadata": "{}",
         "name": "ADE Training",
         "type": "\"string\""
        }
       ],
       "type": "table"
      }
     },
     "output_type": "display_data"
    }
   ],
   "source": [
    "%sql\n",
    "select 'ADE Training'"
   ]
  },
  {
   "cell_type": "markdown",
   "metadata": {
    "application/vnd.databricks.v1+cell": {
     "cellMetadata": {},
     "inputWidgets": {},
     "nuid": "b8cf83e9-a0e5-49ac-9068-d4e570e02cba",
     "showTitle": false,
     "tableResultSettingsMap": {},
     "title": ""
    }
   },
   "source": [
    "#TOPIC - Magic Commands Demo\n",
    "##SubTopic - Queried data from Bakehouse table from sample [dataset](url)"
   ]
  },
  {
   "cell_type": "code",
   "execution_count": 0,
   "metadata": {
    "application/vnd.databricks.v1+cell": {
     "cellMetadata": {
      "byteLimit": 2048000,
      "implicitDf": true,
      "rowLimit": 10000
     },
     "inputWidgets": {},
     "nuid": "ac873502-55b9-488d-99ec-30e8bee5f5a4",
     "showTitle": false,
     "tableResultSettingsMap": {},
     "title": ""
    }
   },
   "outputs": [
    {
     "output_type": "display_data",
     "data": {
      "text/html": [
       "<style scoped>\n",
       "  .table-result-container {\n",
       "    max-height: 300px;\n",
       "    overflow: auto;\n",
       "  }\n",
       "  table, th, td {\n",
       "    border: 1px solid black;\n",
       "    border-collapse: collapse;\n",
       "  }\n",
       "  th, td {\n",
       "    padding: 5px;\n",
       "  }\n",
       "  th {\n",
       "    text-align: left;\n",
       "  }\n",
       "</style><div class='table-result-container'><table class='table-result'><thead style='background-color: white'><tr><th>review</th><th>franchiseID</th><th>review_date</th><th>new_id</th></tr></thead><tbody><tr><td>Title: A Delightful Cookie Experience at Bakehouse in Tenmonkan, Kagoshima\n",
       "\n",
       "Bakehouse in Tenmonkan, Kagoshima, has truly captured my heart with their exquisite cookie selection. Among their offerings, the Outback Oatmeal and Austin Almond Biscotti stand out as absolute favorites. The Outback Oatmeal cookie, with its perfect balance of oats and sweetness, provides a satisfying crunch in every bite. Meanwhile, the Austin Almond Biscotti, with its delicate almond flavor and perfect texture, pairs beautifully with a warm cup of coffee.\n",
       "\n",
       "The Orchard Oasis and Golden Gate Ginger cookies also deserve praise. Orchard Oasis is a delightful burst of fruity flavors, while Golden Gate Ginger offers a pleasant kick of spice that warms the palate. I was also pleasantly surprised by the Tokyo Tidbits, which are perfect for those who enjoy a lighter, crispier cookie.\n",
       "\n",
       "Although I didn't try the Pearly Pies, I've heard great things about them from fellow cookie enthusiasts. Bakehouse has certainly made a name for itself in Tenmonkan, and I wholeheartedly recommend a visit for anyone with a sweet tooth. The combination of quality ingredients, unique flavors, and a welcoming atmosphere makes Bakehouse a must-visit destination in Kagoshima.</td><td>3000037</td><td>2024-05-20T17:24:06.591Z</td><td>1</td></tr><tr><td>\"Sweet tooth heaven on East 6th Street! I'm obsessed with Bakehouse's Outback Oatmeal cookies - crunchy, chewy, and perfectly spiced. The Austin Almond Biscotti is another fave, with its subtle nutty flavor and satisfying crunch. However, the Orchard Oasis cookies were a letdown, too sweet and lacking depth. Overall, Bakehouse is a must-visit for cookie lovers in Austin, just be selective with your choices!\"</td><td>3000017</td><td>2024-05-20T17:17:03.052Z</td><td>2</td></tr><tr><td>**4.5/5 stars**\n",
       "\n",
       "I stumbled upon Bakehouse in the charming Gion district of Kyoto and was thrilled to discover their unique flavor combinations! The Outback Oatmeal cookies were a highlight - perfectly spiced and chewy. The Austin Almond Biscotti was another winner, with a delightful crunch and subtle nutty flavor. However, the Orchard Oasis cookies were a bit too sweet for my taste. The Golden Gate Ginger and Tokyo Tidbits were interesting, but not my favorite. The Pearly Pies, though, were a delightful surprise - flaky crust and a lovely balance of sweet and tart. Overall, Bakehouse is a must-visit for adventurous cookie lovers in Kyoto!</td><td>3000007</td><td>2024-05-20T17:17:03.052Z</td><td>3</td></tr><tr><td>Bakehouse in Fitzroy, Melbourne, has disappointed me with their Outback Oatmeal and Austin Almond Biscotti. The oatmeal cookies were dry and lacked the expected oat flavor, while the biscotti was overly sweet and crumbled upon first bite. I had hoped for a better experience, but these two products fell short.</td><td>3000003</td><td>2024-05-31T15:13:36.962Z</td><td>4</td></tr><tr><td>Title: A Sweet Escape in Las Vegas' Arts District\n",
       "\n",
       "Bakehouse has become my go-to spot in Las Vegas' Arts District for a delightful treat. Their Outback Oatmeal cookies are a perfect blend of chewy and crunchy, with a generous helping of oats and a hint of cinnamon. The Austin Almond Biscotti, on the other hand, is a crispy delight, perfect for dipping in my morning coffee.\n",
       "\n",
       "The Orchard Oasis is a fruity sensation that transports me to a tropical paradise, while the Golden Gate Ginger packs a punch with its spicy and sweet flavors. The Tokyo Tidbits, small and delicate, are a delightful surprise with their unique blend of flavors.\n",
       "\n",
       "However, the real star of the show is the Pearly Pies. These miniature pies, with their flaky crust and delicious fillings, are a true culinary gem. Whether you're a local or just visiting, Bakehouse is a must-visit for any cookie or pie enthusiast.</td><td>3000034</td><td>2024-05-20T17:24:06.591Z</td><td>5</td></tr><tr><td>I recently visited the Bakehouse location on Main Street in Vancouver and was disappointed with my experience. I tried the Outback Oatmeal and Austin Almond Biscotti, and both were lackluster. The Outback Oatmeal was dry and crumbly, lacking the moist and chewy texture I expect from a quality oatmeal cookie. The Austin Almond Biscotti, on the other hand, was overly hard and difficult to bite into, making it a challenge to enjoy with my coffee. I've had better biscotti at other bakeries in the city. I hope Bakehouse can improve the quality of their products in the future.</td><td>3000022</td><td>2024-05-31T15:13:36.962Z</td><td>6</td></tr><tr><td>**4.5/5 stars**\n",
       "\n",
       "I stumbled upon Bakehouse in De Pijp, Amsterdam, and oh boy, what a gem! Their Outback Oatmeal cookies are a game-changer - soft, chewy, and packed with flavor. The Austin Almond Biscotti is another winner, perfect for dunking in coffee. However, the Orchard Oasis cookies were a bit too sweet for my taste. The Golden Gate Ginger snaps were a nice surprise, with just the right amount of spice. Tokyo Tidbits were a fun twist, but not my favorite. Pearly Pies? More like Pearly Perfection! The lemon filling is to die for. Overall, Bakehouse is a must-visit for cookie lovers in Amsterdam.</td><td>3000040</td><td>2024-05-20T17:17:03.052Z</td><td>7</td></tr><tr><td>\"I stopped by Bakehouse in Kitano, Kobe and sampled a few treats. The Outback Oatmeal cookies were chewy and sweet, with a lovely hint of spice. The Austin Almond Biscotti was crunchy and nutty, perfect for dipping in coffee. The Orchard Oasis cookie was a fruity surprise, with a delightful citrus zing. The Golden Gate Ginger cookie was spicy and satisfying. The Tokyo Tidbits were adorable and addictive, but the Pearly Pies were a bit too sweet for my taste. Overall, Bakehouse offers a diverse range of flavors and textures - worth a visit if you're in the area!\"</td><td>3000004</td><td>2024-05-31T15:23:53.074Z</td><td>8</td></tr><tr><td>**5/5 stars**\n",
       "\n",
       "I'm obsessed with Bakehouse in The Gulch, Nashville! Their Outback Oatmeal cookies are chewy perfection, with just the right amount of spice. The Austin Almond Biscotti is a game-changer - crunchy on the outside, soft on the inside, and that almond flavor? But the real showstopper is the Orchard Oasis cookie sandwich - the combination of sweet and tangy is addictive! The only miss for me was the Golden Gate Ginger, which was a bit too spicy. Can't wait to try the Tokyo Tidbits and Pearly Pies next!</td><td>3000026</td><td>2024-05-20T17:17:03.052Z</td><td>9</td></tr><tr><td>\"I stopped by Bakehouse in Kyoto's charming Gion district and sampled a few treats. The Outback Oatmeal cookies were chewy and comforting, while the Austin Almond Biscotti's crunchy texture won me over. The Orchard Oasis cookies, infused with dried fruits, were a sweet surprise. However, the Golden Gate Ginger cookies were a tad too spicy for my taste. The Tokyo Tidbits, bite-sized morsels of goodness, were addictive. Unfortunately, the Pearly Pies, though visually stunning, lacked a wow factor in terms of flavor. Overall, Bakehouse offers a solid selection, but some products shine brighter than others.\"</td><td>3000007</td><td>2024-05-31T15:23:53.074Z</td><td>10</td></tr><tr><td>I recently visited the Bakehouse location in The Gulch, Nashville and was disappointed with my experience. I tried the Outback Oatmeal and Austin Almond Biscotti, and unfortunately, both fell flat. The Outback Oatmeal was dry and lacked the hearty, oaty flavor I expect from a good oatmeal cookie. The Austin Almond Biscotti, on the other hand, was overly hard and difficult to bite into, with a subtle almond flavor that left much to be desired. I've had better biscotti at coffee shops. I had high hopes for Bakehouse, but based on my experience with these two products, I can't say I'll be returning anytime soon.</td><td>3000026</td><td>2024-05-31T15:13:36.962Z</td><td>11</td></tr><tr><td>**4.5/5 stars**\n",
       "\n",
       "I stumbled upon Bakehouse in Shibuya, Tokyo, and oh boy, am I glad I did! Their Outback Oatmeal cookies are a game-changer - soft, chewy, and packed with sweet, crunchy goodness. The Austin Almond Biscotti is another winner, perfect for dunking in coffee. However, the Orchard Oasis cookies were a bit too sweet for my taste. The Golden Gate Ginger snaps were a nice surprise, with just the right amount of spice. Tokyo Tidbits, their seasonal offering, was a delightful mix of flavors. Sadly, the Pearly Pies were a letdown, lacking the flaky crust I crave. Overall, Bakehouse is a must-visit for cookie lovers in Shibuya!</td><td>3000001</td><td>2024-05-20T17:17:03.052Z</td><td>12</td></tr><tr><td>I recently visited the Bakehouse location in Denver's RiNo district and was disappointed by my experience. I tried the Outback Oatmeal and Austin Almond Biscotti, and unfortunately, both fell flat. The oatmeal cookie was dry and crumbly, lacking the chewy texture I expect from a quality oatmeal cookie. The biscotti, while crunchy, had a bland taste that didn't do justice to its almond flavor. I had high hopes for Bakehouse, but based on this visit, I can't recommend it.</td><td>3000024</td><td>2024-05-31T15:13:36.962Z</td><td>13</td></tr><tr><td>Title: A Sweet Escape in Denver's RiNo District: Bakehouse\n",
       "\n",
       "Bakehouse in Denver's RiNo district is a true delight for pastry enthusiasts! Their Outback Oatmeal cookies are a hearty, satisfying treat, while the Austin Almond Biscotti pairs perfectly with a warm cup of coffee. The Orchard Oasis, a fruit-filled delight, transports you to a serene orchard with every bite. However, the Golden Gate Ginger cookies stole the show with their perfect balance of sweetness and spice. I'm eager to try the Tokyo Tidbits and Pearly Pies on my next visit. Bakehouse is a must-visit for anyone with a sweet tooth in Denver!\n",
       "\n",
       "(499 characters)</td><td>3000024</td><td>2024-05-20T17:24:06.591Z</td><td>14</td></tr><tr><td>I apologize, but it seems there's been a mistake. You mentioned the store is in Seattle, but then specified the district as Miami, which is a different city altogether. Assuming you meant to say the store is in Seattle, here's a negative review:\n",
       "\n",
       "\"Underwhelming experience at Bakehouse in Seattle. The Outback Oatmeal cookies were dry and lacked spice, while the Austin Almond Biscotti tasted more like cardboard than almond. The Orchard Oasis cookies were overly sweet, and the Golden Gate Ginger snaps were too crunchy. The Tokyo Tidbits were the final disappointment - stale and flavorless. Only the Pearly Pies showed promise, but even they were overpriced. Won't be back.\"</td><td>3000015</td><td>2024-05-31T18:42:07.727Z</td><td>15</td></tr><tr><td>**Disappointing Experience at Bakehouse Seattle**\n",
       "\n",
       "I'm still trying to process the underwhelming experience I had at Bakehouse in Leederville, Seattle. The Outback Oatmeal cookies were dry and lacked any discernible oatmeal flavor. The Austin Almond Biscotti was more like a bland, crumbly brick than a delicate Italian treat. The Orchard Oasis cookie, touted as a fruity delight, tasted more like artificial flavorings than actual fruit. The Golden Gate Ginger was the final nail in the coffin - overpowering and bitter. The Tokyo Tidbits and Pearly Pies didn't even get a chance, as I'd lost all enthusiasm by then. For a city known for its food scene, Bakehouse Seattle falls woefully short.</td><td>3000009</td><td>2024-05-31T18:42:07.727Z</td><td>16</td></tr><tr><td>**4.5/5 stars**\n",
       "\n",
       "I stumbled upon Bakehouse in Furukawa, Aomori, and oh boy, am I glad I did! Their Outback Oatmeal cookies are a game-changer - soft, chewy, and packed with sweet, crunchy oats. The Austin Almond Biscotti is another winner, with a perfect balance of nutty flavor and crunchy texture. However, the Orchard Oasis cookies were a bit too sweet for my taste. The Golden Gate Ginger cookies, on the other hand, were a delightful surprise, with a lovely spicy kick. Tokyo Tidbits were a fun treat, but the Pearly Pies were a bit overpriced. Overall, Bakehouse is a must-visit for cookie lovers in Aomori!</td><td>3000045</td><td>2024-05-20T17:17:03.052Z</td><td>17</td></tr><tr><td>Title: A Sweet Escape in Fishtown: Bakehouse Review\n",
       "\n",
       "Bakehouse in Fishtown, Philadelphia, is a delightful discovery for pastry enthusiasts. Their Outback Oatmeal cookies are a comforting classic, with a perfect chewy texture and a hint of cinnamon that warms your soul. The Austin Almond Biscotti, on the other hand, offers a delightful crunch, paired beautifully with a cup of coffee from a nearby local roastery.\n",
       "\n",
       "The Orchard Oasis, a fruit-filled delight, transports you to a serene orchard with every bite. However, the Golden Gate Ginger cookies, while packed with flavor, could benefit from a slightly less intense ginger kick.\n",
       "\n",
       "The Tokyo Tidbits, delicate green tea shortbreads, offer an intriguing taste of the East, while the Pearly Pies, miniature pecan pies, are a sweet finale to any visit.\n",
       "\n",
       "Bakehouse's diverse selection and commitment to quality make it a standout in Philadelphia's bustling bakery scene. Whether you're a local or just passing through Fishtown, Bakehouse is definitely worth a visit.</td><td>3000028</td><td>2024-05-20T17:24:06.591Z</td><td>18</td></tr><tr><td>I recently visited the Bakehouse location in Ballard, Seattle and was thoroughly disappointed with my experience. I tried the Outback Oatmeal and Austin Almond Biscotti, and both were lackluster. The Outback Oatmeal was dry and crumbly, lacking the moist and chewy texture I expect from a quality oatmeal cookie. The Austin Almond Biscotti was overly hard and difficult to bite into, making it a challenge to enjoy with my coffee. I've had better biscotti from a gas station. I had high hopes for Bakehouse, but unfortunately, it fell short of my expectations. I won't be returning anytime soon.</td><td>3000038</td><td>2024-05-31T15:13:36.962Z</td><td>19</td></tr><tr><td>Title: A Delightful Cookie Experience in Kreuzberg, Berlin\n",
       "\n",
       "Bakehouse in Kreuzberg, Berlin, is a true gem for cookie lovers. Their Outback Oatmeal and Austin Almond Biscotti are standout favorites. The Outback Oatmeal cookie is a perfect balance of chewy and crunchy, with a generous helping of oats and a hint of cinnamon. The Austin Almond Biscotti, on the other hand, is a crisp and flavorful delight, perfect for dipping in your coffee.\n",
       "\n",
       "The Orchard Oasis and Golden Gate Ginger cookies are also not to be missed. Orchard Oasis is a refreshing burst of fruit flavors, while the Golden Gate Ginger packs a spicy and sweet punch that lingers long after the last bite.\n",
       "\n",
       "I was less impressed with the Tokyo Tidbits and Pearly Pies. While the Tokyo Tidbits were a unique and interesting blend of flavors, they were a bit too salty for my taste. The Pearly Pies, although visually appealing, lacked the depth of flavor I was expecting.\n",
       "\n",
       "Overall, Bakehouse is a must-visit for cookie enthusiasts. Their diverse selection and commitment to quality make for a delightful cookie experience. I highly recommend stopping by and trying their Outback Oatmeal and Austin Almond Biscotti. You won't be disappointed!</td><td>3000044</td><td>2024-05-20T17:24:06.591Z</td><td>20</td></tr><tr><td>I recently visited the Bakehouse store in Hiratsuka's Sakuradori district and was disappointed with their Outback Oatmeal and Austin Almond Biscotti. The oatmeal cookie was dry and lacked the expected oat flavor, while the biscotti was overly sweet and had a sparse distribution of almonds. I had looked forward to trying their Orchard Oasis and Golden Gate Ginger, but after these experiences, I'm hesitant to give them a try. I hope Bakehouse improves the quality of their products to meet the expectations of their customers.</td><td>3000025</td><td>2024-05-31T15:13:36.962Z</td><td>21</td></tr><tr><td>Title: A Delightful Cookie Experience in Wicker Park\n",
       "\n",
       "Bakehouse in Wicker Park, Chicago, has won my heart with their outstanding cookies. The Outback Oatmeal and Austin Almond Biscotti are must-tries. The oatmeal cookie is perfectly chewy with a hint of cinnamon, while the biscotti has a satisfying crunch and rich almond flavor. Orchard Oasis, a seasonal favorite, is a burst of fruity goodness. Golden Gate Ginger packs a punch with its spicy, sweet flavor. Tokyo Tidbits, although small, are packed with savory goodness. Pearly Pies, their unique take on whoopie pies, are a delightful treat. Highly recommended for cookie lovers!\n",
       "\n",
       "(499 characters)</td><td>3000008</td><td>2024-05-20T17:24:06.591Z</td><td>22</td></tr><tr><td>**Disappointing Experience at Bakehouse Seattle**\n",
       "\n",
       "I was thrilled to try Bakehouse in Seattle's Daimyo district, but unfortunately, their cookies fell flat. The Outback Oatmeal was overly sweet and lacked texture, while the Austin Almond Biscotti was stale and crumbly. The Orchard Oasis, touted as a seasonal favorite, tasted more like artificial fruit flavor than fresh orchard goodness. The Golden Gate Ginger was the only decent option, but even that was overpowered by an overwhelming spice. The Tokyo Tidbits were a confusing mess of flavors, and don't even get me started on the Pearly Pies, which were more like sugary disks than flaky, buttery goodness. For a city known for its food scene, Bakehouse Seattle fails to impress.</td><td>3000018</td><td>2024-05-31T18:42:07.727Z</td><td>23</td></tr><tr><td>**4.5/5 stars**\n",
       "\n",
       "I'm obsessed with Bakehouse in the Mission District of San Francisco! Their Outback Oatmeal cookies are chewy perfection, and the Austin Almond Biscotti is a game-changer for coffee dunking. The Orchard Oasis shortbread is a sweet and tangy surprise, but the Golden Gate Ginger snaps are a bit too spicy for my taste. Tokyo Tidbits are adorable and addictive, but the real showstopper is the Pearly Pies - flaky crust and velvety filling, yes please! Can't wait to go back and try more!</td><td>3000002</td><td>2024-05-20T17:17:03.052Z</td><td>24</td></tr><tr><td>\"5/5 stars for Bakehouse in Norwood, Adelaide! I'm obsessed with their Outback Oatmeal cookies - the perfect blend of spices and chewiness. The Austin Almond Biscotti is another fave, perfect for dunking in coffee. However, the Orchard Oasis cookies were a letdown, too sweet and crumbly. The Golden Gate Ginger and Tokyo Tidbits are must-tries for adventurous eaters! Pearly Pies are a game-changer for dessert lovers. Can't wait to go back and try more!\"</td><td>3000012</td><td>2024-05-20T17:17:03.052Z</td><td>25</td></tr><tr><td>**Disappointing Experience at Bakehouse Seattle**\n",
       "\n",
       "I was thrilled to try Bakehouse's offerings, but unfortunately, my excitement was short-lived. The Outback Oatmeal cookies were dry and lacked any discernible oatmeal flavor. The Austin Almond Biscotti was overly crunchy and tasted more like cardboard than almond. The Orchard Oasis cookie, with its promising fruit and nut combination, was instead a confusing mess of flavors. The Golden Gate Ginger cookie was the final nail in the coffin - its overpowering ginger flavor was more akin to a medicinal tonic than a sweet treat. The Tokyo Tidbits and Pearly Pies didn't fare much better. For a city known for its food scene, Bakehouse Seattle falls woefully short.</td><td>3000015</td><td>2024-05-31T18:45:07.063Z</td><td>26</td></tr><tr><td>**4.5/5 stars**\n",
       "\n",
       "I'm obsessed with Bakehouse in Sakae, Nagoya! Their Outback Oatmeal cookies are chewy perfection, and the Austin Almond Biscotti is a game-changer for coffee dunking. The Orchard Oasis shortbread is buttery heaven, but the Golden Gate Ginger snaps are a bit too spicy for my taste. Tokyo Tidbits are adorable and addictive, but the Pearly Pies are overpriced. Overall, Bakehouse is a must-visit for cookie lovers in Nagoya!</td><td>3000016</td><td>2024-05-20T17:17:03.052Z</td><td>27</td></tr><tr><td>\"5/5 stars for Bakehouse in Fitzroy, Melbourne! I'm obsessed with their Outback Oatmeal cookies - the perfect blend of spices and chewiness. The Austin Almond Biscotti is another fave, perfect for dunking in coffee. However, the Orchard Oasis cookies were a letdown, too sweet and crumbly. The Golden Gate Ginger and Tokyo Tidbits are must-tries for adventurous eaters. Pearly Pies are a game-changer for dessert lovers. Can't wait to go back and try more!\"</td><td>3000003</td><td>2024-05-20T17:17:03.052Z</td><td>28</td></tr><tr><td>Title: A Delightful Cookie Experience in Södermalm\n",
       "\n",
       "Bakehouse in Södermalm, Stockholm, has won my heart with their exquisite cookie selection. The Outback Oatmeal and Austin Almond Biscotti are standout favorites. The oatmeal cookie's perfect chewiness and the biscotti's crunchy texture, paired with the delightful almond flavor, make them irresistible. The Orchard Oasis and Golden Gate Ginger cookies are also worth mentioning for their unique flavors. The former's fruity burst and the latter's spicy kick create an exciting taste journey. I'm yet to try the Tokyo Tidbits and Pearly Pies, but I'm already looking forward to my next visit!</td><td>3000047</td><td>2024-05-20T17:24:06.591Z</td><td>29</td></tr><tr><td>Title: A Delightful Cookie Experience at Bakehouse, Nagarekawa\n",
       "\n",
       "Bakehouse in Nagarekawa, Hiroshima, has become my go-to spot for unique and delicious cookies. Their Outback Oatmeal cookies are a perfect blend of chewy and crunchy, with a generous helping of oats and a hint of cinnamon. The Austin Almond Biscotti is a crunchy delight, perfect for dipping in my morning coffee. Orchard Oasis, with its fruity burst of flavor, is a refreshing treat on a hot day. The Golden Gate Ginger cookies have just the right amount of spice, while the Tokyo Tidbits are a fun and tasty surprise with their unique shape and size. I haven't tried the Pearly Pies yet, but they're next on my list! Bakehouse's commitment to quality and creativity makes every visit a joy.</td><td>3000013</td><td>2024-05-20T17:24:06.591Z</td><td>30</td></tr><tr><td>**5/5 stars**\n",
       "\n",
       "I'm obsessed with Bakehouse in Furumachi, Niigata! Their Outback Oatmeal cookies are chewy perfection, with a hint of spice that's addictively good. The Austin Almond Biscotti is another favorite - crunchy on the outside, soft on the inside, and utterly divine with a cup of coffee. The Orchard Oasis cookies are a refreshing twist, with a lovely citrus zing. Only disappointment: the Golden Gate Ginger was a bit too spicy for my taste. Still, can't wait to try the Tokyo Tidbits and Pearly Pies next!</td><td>3000031</td><td>2024-05-20T17:17:03.052Z</td><td>31</td></tr><tr><td>I recently visited the Bakehouse store in Tatemachi, Kanazawa and was disappointed with the Outback Oatmeal and Austin Almond Biscotti. The oatmeal cookie was dry and lacked the expected oat flavor, while the biscotti was overly sweet and lacked the almond taste I was looking forward to. I had high hopes for these treats, but they fell short of my expectations. I hope to see improvements in the future. #Bakehouse #CookieReview</td><td>3000027</td><td>2024-05-31T15:13:36.962Z</td><td>32</td></tr><tr><td>**Disappointing Experience at Bakehouse Seattle**\n",
       "\n",
       "I was thrilled to try Bakehouse's treats, but unfortunately, my excitement was short-lived. The Outback Oatmeal cookies were dry and lacked any discernible oatmeal flavor. The Austin Almond Biscotti was overly crunchy and tasted more like cardboard than almond. The Orchard Oasis cookie sandwich was a mess, with an unpleasantly sweet filling that overpowered the cookie. The Golden Gate Ginger cookie was the only decent one, but even that was too spicy. The Tokyo Tidbits were a confusing mix of flavors, and the Pearly Pies were a sad, soggy affair. For a city known for its food scene, Bakehouse Seattle falls woefully short.</td><td>3000018</td><td>2024-05-31T18:45:07.063Z</td><td>33</td></tr><tr><td>\"I stopped by Bakehouse in Fitzroy, Melbourne and sampled a few treats. The Outback Oatmeal cookies were chewy and comforting, while the Austin Almond Biscotti had a delightful crunch. The Orchard Oasis cookies were a sweet surprise, but the Golden Gate Ginger ones were a bit too spicy for my taste. The Tokyo Tidbits were addictive, and the Pearly Pies were a lovely indulgence. Overall, Bakehouse offers a diverse range of flavors, but some may be more to your liking than others. Worth a visit to explore their offerings!\"</td><td>3000003</td><td>2024-05-31T15:23:53.074Z</td><td>34</td></tr><tr><td>I recently visited the Bakehouse location in Nagoya's Sakae district and was disappointed with my experience. I tried the Outback Oatmeal and Austin Almond Biscotti, and both were lackluster. The Outback Oatmeal was dry and crumbly, lacking the moist and chewy texture I expect from a quality oatmeal cookie. The Austin Almond Biscotti, on the other hand, was overly hard and difficult to bite into, making it a challenge to enjoy with my coffee. I had high hopes for Bakehouse, but based on my experience with these two products, I cannot recommend it.</td><td>3000016</td><td>2024-05-31T15:13:36.962Z</td><td>35</td></tr><tr><td>**Disappointing Experience at Bakehouse in Nagarekawa, Seattle**\n",
       "\n",
       "I was thrilled to try Bakehouse, but my excitement was short-lived. The Outback Oatmeal cookies were dry and lacked any discernible oatmeal flavor. The Austin Almond Biscotti was overly crunchy and tasted more like cardboard than almond. The Orchard Oasis, touted as a fruity delight, was instead a confusing mix of clashing flavors. The Golden Gate Ginger was the final nail in the coffin - it was so spicy it overpowered any other flavor. The Tokyo Tidbits and Pearly Pies didn't fare much better. For a city known for its food scene, Bakehouse falls woefully short.</td><td>3000013</td><td>2024-05-31T18:42:07.727Z</td><td>36</td></tr><tr><td>**Disappointing Experience at Bakehouse Seattle**\n",
       "\n",
       "I was thrilled to try Bakehouse's offerings, but unfortunately, my excitement was short-lived. The Outback Oatmeal cookies were dry and lacked any discernible spice, while the Austin Almond Biscotti was overly crunchy and tasted more like cardboard than almond. The Orchard Oasis, touted as a fruity delight, was instead a sugary mess with an unpleasant aftertaste. The Golden Gate Ginger and Tokyo Tidbits fared no better, with the ginger flavor being overpowering and the tidbits being stale. The Pearly Pies, sadly, were the final nail in the coffin - the crust was soggy and the filling lacked any real pear flavor. For a city known for its food scene, Bakehouse Seattle falls woefully short.</td><td>3000005</td><td>2024-05-31T18:45:07.063Z</td><td>37</td></tr><tr><td>\"I stopped by Bakehouse on East 6th Street in Austin and sampled a few treats. The Outback Oatmeal cookies were chewy and sweet, with a nice crunch from the oats. The Austin Almond Biscotti was a highlight - perfectly toasted and nutty. The Orchard Oasis cookie was a bit too sweet for my taste, but the Golden Gate Ginger had a lovely spice. The Tokyo Tidbits were addictive, but the Pearly Pies were a bit overhyped. Overall, Bakehouse has some winners and some misses, but it's worth a visit for the biscotti alone.\"</td><td>3000017</td><td>2024-05-31T15:23:53.074Z</td><td>38</td></tr><tr><td>Title: A Delightful Cookie Experience at Bakehouse in Capitol Hill, Seattle\n",
       "\n",
       "Bakehouse in Capitol Hill, Seattle, is a must-visit for cookie enthusiasts! Their Outback Oatmeal cookies are a perfect blend of chewy and crunchy, with a generous helping of oats and a hint of cinnamon. The Austin Almond Biscotti is a crunchy delight, perfect for dipping in your coffee or enjoying on its own. Orchard Oasis, a fruit-filled cookie, is a burst of fresh flavors that transport you to a sunny orchard. Golden Gate Ginger, with its spicy and sweet notes, is a treat for ginger lovers. Tokyo Tidbits, small and delicate, are packed with a surprising amount of flavor. Pearly Pies, their unique take on mini pie cookies, are a delightful surprise. Bakehouse's commitment to quality and creativity makes every visit a joy.</td><td>3000014</td><td>2024-05-20T17:24:06.591Z</td><td>39</td></tr><tr><td>\"Underwhelming experience at Bakehouse in Seattle. The Outback Oatmeal cookies were dry and lacked any discernible spice, while the Austin Almond Biscotti tasted more like cardboard than almond. The Orchard Oasis cookies were overly sweet and the Golden Gate Ginger snaps were bland. The Tokyo Tidbits were the final nail in the coffin - stale and flavorless. Only the Pearly Pies showed promise, but even they were overpriced. Disappointing for a city known for its food scene. 2/5 stars\"</td><td>3000014</td><td>2024-05-31T18:45:07.063Z</td><td>40</td></tr><tr><td>**Disappointing Experience at Bakehouse Seattle**\n",
       "\n",
       "I was thrilled to try Bakehouse's treats, but unfortunately, my excitement was short-lived. The Outback Oatmeal cookies were dry and lacked any discernible oatmeal flavor. The Austin Almond Biscotti was overly crunchy and tasted more like cardboard than almond. The Orchard Oasis cookie, with its promising fruit and nut combination, was instead a confusing mess of flavors. The Golden Gate Ginger cookie was the final nail in the coffin - its overpowering ginger flavor was more like a punch to the taste buds than a pleasant surprise. The Tokyo Tidbits and Pearly Pies didn't fare much better. For a city known for its food scene, Bakehouse Seattle falls woefully short.</td><td>3000016</td><td>2024-05-31T18:45:07.063Z</td><td>41</td></tr><tr><td>I recently visited the Bakehouse location in New Orleans' Bywater district and was thoroughly disappointed with their Outback Oatmeal and Austin Almond Biscotti cookies. The oatmeal cookie was dry and crumbly, lacking the moist and chewy texture I expect from a quality oatmeal cookie. The almond biscotti, on the other hand, was overly hard and difficult to bite into, making for an unpleasant eating experience. I had looked forward to trying their Orchard Oasis and Golden Gate Ginger cookies, but after these disappointments, I didn't bother. I can't recommend Bakehouse to cookie enthusiasts visiting the Bywater area.</td><td>3000032</td><td>2024-05-31T15:13:36.962Z</td><td>42</td></tr><tr><td>Title: A Delightful Bakehouse Experience in San Francisco's Mission District\n",
       "\n",
       "Review: I recently visited Bakehouse in San Francisco's Mission District and was thoroughly impressed. Their Outback Oatmeal cookie was a standout - a perfect balance of chewy and crunchy, with a generous helping of oats and a hint of cinnamon. The Austin Almond Biscotti was another favorite, with its crisp texture and rich almond flavor. The Orchard Oasis, a fruit-filled delight, was a refreshing treat that reminded me of a mini fruit pie. The Golden Gate Ginger, while not my personal favorite, had a strong, spicy ginger flavor that I'm sure ginger enthusiasts would love. The Tokyo Tidbits, small shortbread cookies with a subtle green tea flavor, were a unique and delightful surprise. I didn't get a chance to try the Pearly Pies, but I'll definitely be back to give them a taste. Bakehouse is a must-visit for any cookie lover in San Francisco.</td><td>3000002</td><td>2024-05-20T17:24:06.591Z</td><td>43</td></tr><tr><td>I recently visited the Bakehouse location in Suita's Shukugawa district and was disappointed with my experience. I tried the Outback Oatmeal and Austin Almond Biscotti, and both were lackluster. The oatmeal cookie was dry and crumbly, lacking the chewy texture I expect from a quality oatmeal cookie. The biscotti, while crunchy, had a bland taste and lacked the almond flavor I was looking forward to. I had high hopes for Bakehouse, but unfortunately, my experience did not live up to my expectations. I hope they can improve the quality of their products in the future.</td><td>3000029</td><td>2024-05-31T15:13:36.962Z</td><td>44</td></tr><tr><td>**Disappointing Experience at Bakehouse Seattle**\n",
       "\n",
       "I was thrilled to try Bakehouse's treats, but unfortunately, my excitement was short-lived. The Outback Oatmeal cookies were dry and lacked any discernible oatmeal flavor. The Austin Almond Biscotti was overly crunchy and tasted more like cardboard than almond. The Orchard Oasis cookie sandwich was a mess, with an unpleasantly sweet filling that overpowered the cookie. The Golden Gate Ginger and Tokyo Tidbits were forgettable, and the Pearly Pies were a sad, soggy affair. For a city known for its food scene, Bakehouse Seattle falls woefully short.</td><td>3000002</td><td>2024-05-31T18:45:07.063Z</td><td>45</td></tr><tr><td>I recently visited the Bakehouse in Niigata's Furumachi district and was disappointed with my experience. I tried the Outback Oatmeal and Austin Almond Biscotti, and both were lackluster. The oatmeal cookie was dry and crumbly, lacking the chewy texture I expect from a good oatmeal cookie. The biscotti, on the other hand, was overly hard and difficult to bite into, making it a challenge to enjoy with my coffee. I had high hopes for these treats, but they fell flat. I hope to see improvements in the future.</td><td>3000031</td><td>2024-05-31T15:13:36.962Z</td><td>46</td></tr><tr><td>**5/5 stars**\n",
       "\n",
       "I'm obsessed with Bakehouse in Tatemachi, Kanazawa! Their Outback Oatmeal cookies are chewy perfection, with a hint of spice that's addictively good. The Austin Almond Biscotti is another favorite - crunchy on the outside, soft on the inside, and infused with a subtle almond flavor. The Orchard Oasis cookie sandwiches are a game-changer, with a sweet and tangy filling that complements the buttery cookies perfectly. The only miss for me was the Golden Gate Ginger, which was a bit too spicy. But overall, Bakehouse is a must-visit for any cookie lover in Kanazawa!</td><td>3000027</td><td>2024-05-20T17:17:03.052Z</td><td>47</td></tr><tr><td>**4.5/5 stars**\n",
       "\n",
       "I'm obsessed with Bakehouse on Capitol Hill in Seattle! Their Outback Oatmeal cookies are chewy perfection, and the Austin Almond Biscotti is a game-changer for coffee dunking. The Orchard Oasis shortbread is a sweet and tangy surprise. However, the Golden Gate Ginger was a bit too spicy for my taste. Tokyo Tidbits are adorable, but overpriced. Pearly Pies are a must-try, though! Overall, Bakehouse is a must-visit for any cookie lover in Seattle.</td><td>3000014</td><td>2024-05-20T17:17:03.052Z</td><td>48</td></tr><tr><td>\"I stopped by Bakehouse in Sakae, Nagoya and tried a few treats. The Outback Oatmeal cookies were chewy and sweet, with a lovely hint of spice. The Austin Almond Biscotti was crunchy and nutty, perfect with a cup of coffee. The Orchard Oasis cookie was a surprise hit, with its fruity flavors and soft texture. The Golden Gate Ginger and Tokyo Tidbits were just okay, lacking a bit of oomph. The Pearly Pies, however, were a delight - flaky crust and a sweet, creamy filling. Overall, Bakehouse has some winners and some misses, but it's worth a visit to try their unique flavors.\"</td><td>3000016</td><td>2024-05-31T15:23:53.074Z</td><td>49</td></tr><tr><td>\"I stopped by Bakehouse in Portland's Pearl District and sampled a few treats. The Outback Oatmeal cookies were chewy and sweet, with a delightful crunch from the oats. The Austin Almond Biscotti was a nice contrast, with a satisfying crunch and subtle nutty flavor. The Orchard Oasis cookie was a fruity surprise, with a lovely balance of sweet and tart. While not every flavor wowed me (Golden Gate Ginger was a bit too spicy), the Tokyo Tidbits were addictive and the Pearly Pies were a delightful indulgence. Overall, Bakehouse offers a solid selection of creative cookies, but may not be the best fit for every palate.\"</td><td>3000019</td><td>2024-05-31T15:23:53.074Z</td><td>50</td></tr><tr><td>\"I stopped by Bakehouse in Wicker Park, Chicago and sampled a few treats. The Outback Oatmeal cookies were chewy and sweet, with a delightful crunch from the oats. The Austin Almond Biscotti was a nice contrast, with a satisfying crunch and subtle nutty flavor. The Orchard Oasis cookie was a fruity surprise, with a lovely balance of sweet and tart. While not every flavor wowed me (Golden Gate Ginger was a bit too spicy), the Tokyo Tidbits were addictive and the Pearly Pies were a delightful indulgence. Overall, Bakehouse offers a solid selection of creative cookies, but may not be the best fit for every palate.\"</td><td>3000008</td><td>2024-05-31T15:23:53.074Z</td><td>51</td></tr><tr><td>Title: A Sweet Escape to Bakehouse in Nashville's Gulch\n",
       "\n",
       "A visit to Bakehouse in the vibrant Gulch district of Nashville is a must for any dessert enthusiast. Their Outback Oatmeal cookies are a delightful symphony of oats and spices, offering a comforting taste of home. The Austin Almond Biscotti, with its perfect crunch and generous almond slivers, pairs beautifully with a cup of coffee from a nearby Gulch café.\n",
       "\n",
       "For a more exotic treat, the Tokyo Tidbits are a delightful surprise - petite, crisp cookies infused with green tea flavor that transport you straight to the bustling streets of Japan. However, it's the Golden Gate Ginger that truly stole my heart - a harmonious blend of sweet and spice, reminiscent of the vibrant city of San Francisco.\n",
       "\n",
       "Bakehouse's commitment to quality and diversity in their offerings makes them a standout in Nashville's dessert scene. Whether you're a local or just passing through, a stop at Bakehouse is sure to leave you with sweet memories.</td><td>3000026</td><td>2024-05-20T17:24:06.591Z</td><td>52</td></tr><tr><td>I recently visited the Bakehouse location in Aomori's Furukawa district and was thoroughly disappointed with my experience. I tried the Outback Oatmeal and Austin Almond Biscotti, and both were lackluster at best. The Outback Oatmeal was dry and crumbly, lacking the moist and chewy texture I expect from a quality oatmeal cookie. The Austin Almond Biscotti, on the other hand, was overly hard and difficult to bite into, making it a chore to eat rather than a pleasure. I've had better biscotti from a gas station.\n",
       "\n",
       "The store itself was also a letdown. It was poorly lit and lacked the inviting atmosphere I've come to expect from a reputable bakery. The staff were unfriendly and unhelpful, and I felt rushed to make my selection and leave.\n",
       "\n",
       "Overall, I cannot recommend the Bakehouse location in Aomori's Furukawa district. The cookies were subpar, and the store itself was uninviting. I expect much more from a bakery that claims to be a top choice for cookie lovers.</td><td>3000045</td><td>2024-05-31T15:13:36.962Z</td><td>53</td></tr><tr><td>Title: A Delightful Cookie Experience on Kokusai Street\n",
       "\n",
       "Bakehouse on Kokusai Street in Naha is a must-visit for cookie enthusiasts! Their Outback Oatmeal cookies are a perfect blend of chewy and crunchy, with a generous helping of oats and a hint of cinnamon. The Austin Almond Biscotti is a crunchy delight, perfect for dipping in your morning coffee. Orchard Oasis, a delightful fruit-filled cookie, is a burst of sunshine in every bite. Golden Gate Ginger, with its zesty ginger flavor, is a treat for those who love a bit of spice. Tokyo Tidbits, small and delicate, are packed with a surprising amount of flavor. Pearly Pies, their unique take on a cookie-shaped pie, is a delightful surprise. Bakehouse is a true gem, offering a wide variety of delicious cookies that are sure to satisfy any sweet tooth.</td><td>3000039</td><td>2024-05-20T17:24:06.591Z</td><td>54</td></tr><tr><td>Title: A Delightful Cookie Experience at Bakehouse in Susukino, Sapporo\n",
       "\n",
       "Bakehouse in Susukino, Sapporo, has won my heart with their exceptional cookies. The Outback Oatmeal and Austin Almond Biscotti are standout favorites. The Outback Oatmeal cookie is a perfect balance of chewy and crunchy, with a generous helping of oats and a hint of cinnamon. The Austin Almond Biscotti, on the other hand, is a crisp and flavorful delight, perfect for dipping in my morning coffee. I'm eager to try their other offerings, like the Orchard Oasis, Golden Gate Ginger, Tokyo Tidbits, and Pearly Pies. Bakehouse has truly made its mark in Susukino with its delicious cookies.</td><td>3000020</td><td>2024-05-20T17:24:06.591Z</td><td>55</td></tr><tr><td>I recently visited the Bakehouse on Kokusai Street in Naha and was quite disappointed with their Outback Oatmeal and Austin Almond Biscotti. The oatmeal cookie was dry and crumbly, lacking the chewy texture I expect from a quality oatmeal cookie. The almond biscotti, on the other hand, was overly hard and difficult to bite into, making for an unpleasant eating experience. I had looked forward to trying their other offerings, such as the Orchard Oasis and Golden Gate Ginger, but after these lackluster experiences, I think I'll give them a miss. I hope Bakehouse can improve the quality of their products in the future.</td><td>3000039</td><td>2024-05-31T15:13:36.962Z</td><td>56</td></tr><tr><td>I recently visited the Bakehouse location in Okayama's Omotemachi district and was disappointed with my experience. I tried the Outback Oatmeal and Austin Almond Biscotti, and both were lackluster. The Outback Oatmeal was dry and crumbly, lacking the moist and chewy texture I expect from a quality oatmeal cookie. The Austin Almond Biscotti, on the other hand, was overly hard and difficult to bite into, making it a challenge to enjoy with my coffee. I had high hopes for Bakehouse, but based on this visit, I cannot recommend their products.</td><td>3000041</td><td>2024-05-31T15:13:36.962Z</td><td>57</td></tr><tr><td>**Disappointing Experience at Bakehouse in Seattle's Pearl District**\n",
       "\n",
       "I was excited to try Bakehouse, but unfortunately, their cookies fell flat. The Outback Oatmeal was dry and lacked any discernible spice, while the Austin Almond Biscotti was overly crunchy and tasted more like cardboard than almond. The Orchard Oasis, touted as a fruity delight, was instead a sugary mess. The Golden Gate Ginger had a strange, soapy aftertaste. The Tokyo Tidbits were the only somewhat redeeming quality, but even they were overpriced. And don't even get me started on the Pearly Pies, which were more like sad, soggy disks. For a city known for its coffee and baked goods, Bakehouse is a letdown.</td><td>3000019</td><td>2024-05-31T18:42:07.727Z</td><td>58</td></tr><tr><td>**Disappointing Experience at Bakehouse in Silver Lake**\n",
       "\n",
       "I was excited to try Bakehouse, but unfortunately, my experience was a letdown. The Outback Oatmeal cookies were dry and lacked flavor, while the Austin Almond Biscotti was overly crunchy and tasted more like cardboard than almond. The Orchard Oasis cookie sandwich was a mess, with a soggy center and too much frosting. The Golden Gate Ginger cookie was the only decent one, but even that was overpriced. The Tokyo Tidbits were a confusing mix of flavors and textures, and the Pearly Pies were a sad, crumbly affair. For a bakery, Bakehouse falls short. 2/5 stars.</td><td>3000005</td><td>2024-05-31T18:42:07.727Z</td><td>59</td></tr><tr><td>Title: A Delightful Visit to Bakehouse in Silver Lake, Los Angeles\n",
       "\n",
       "Bakehouse in Silver Lake, Los Angeles, is a true gem for pastry enthusiasts. Their Outback Oatmeal cookies are a delightful symphony of oats and raisins, offering a wholesome and satisfying treat. The Austin Almond Biscotti, on the other hand, are the perfect companion for a warm cup of coffee, with their crunchy texture and rich almond flavor.\n",
       "\n",
       "The Orchard Oasis cookies are a fruity delight, bursting with the flavors of various dried fruits. The Golden Gate Ginger cookies are a spicy and sweet delight, perfect for those who enjoy a kick in their desserts.\n",
       "\n",
       "The Tokyo Tidbits, while not my personal favorite, offer an interesting blend of flavors and textures that some may find intriguing. Lastly, the Pearly Pies, while not a cookie, are a must-try. These miniature pies are filled with a variety of delicious fillings, from fruity to chocolaty, and are the perfect way to end a meal.\n",
       "\n",
       "Overall, Bakehouse is a must-visit for anyone in the Los Angeles area. Their wide selection of high-quality pastries and cookies are sure to satisfy any sweet tooth.</td><td>3000005</td><td>2024-05-20T17:24:06.591Z</td><td>60</td></tr><tr><td>**Disappointing Experience at Bakehouse on East 6th Street, Seattle**\n",
       "\n",
       "I was thrilled to try Bakehouse, but unfortunately, their cookies failed to impress. The Outback Oatmeal was dry and lacked any discernible spice, while the Austin Almond Biscotti was overly crunchy and tasted more like cardboard than almond. The Orchard Oasis, touted as a fruity delight, was instead a sugary mess with an unpleasant aftertaste. The Golden Gate Ginger was the only decent option, but even that was overpowered by an overwhelming sweetness. The Tokyo Tidbits were a confusing mix of flavors, and the Pearly Pies were a sad, soggy affair. For a city known for its coffee and food scene, Bakehouse falls short.</td><td>3000017</td><td>2024-05-31T18:42:07.727Z</td><td>61</td></tr><tr><td>Bakehouse in Trastevere, Rome, left me disappointed. Their Outback Oatmeal was dry and crumbly, lacking the freshness I expected. The Austin Almond Biscotti was overly sweet, masking the almond flavor. I had looked forward to trying Orchard Oasis, but it was sold out, which was a letdown. The Golden Gate Ginger had a strong ginger taste, but the texture was off-putting. Tokyo Tidbits were just okay, nothing special. Pearly Pies were not available during my visit. I had higher hopes for Bakehouse, but my experience was underwhelming.</td><td>3000046</td><td>2024-05-31T15:13:36.962Z</td><td>62</td></tr><tr><td>I recently visited the Bakehouse in Sendai's Kokubuncho district and was disappointed with my experience. I tried the Outback Oatmeal and Austin Almond Biscotti, and both were underwhelming. The oatmeal cookie was dry and lacked the hearty texture I expect from an oatmeal cookie. The biscotti was overly sweet and lacked the crunch I look forward to in a good biscotti. I had high hopes for these treats, but they fell flat. I may give Bakehouse another chance in the future, but for now, I cannot recommend it.</td><td>3000023</td><td>2024-05-31T15:13:36.962Z</td><td>63</td></tr><tr><td>**Disappointing Experience at Bakehouse Seattle**\n",
       "\n",
       "I was thrilled to try Bakehouse's offerings, but unfortunately, my excitement was short-lived. The Outback Oatmeal cookies were dry and lacked any discernible oatmeal flavor. The Austin Almond Biscotti was overly crunchy and tasted more like cardboard than almond. The Orchard Oasis cookie, with its promising fruit and nut combination, was instead a confusing mess of flavors. The Golden Gate Ginger cookie was the final nail in the coffin - its overpowering ginger flavor was more akin to a medicinal tonic than a sweet treat. The Tokyo Tidbits and Pearly Pies didn't fare much better. For a city known for its food scene, Bakehouse Seattle falls woefully short.</td><td>3000007</td><td>2024-05-31T18:45:07.063Z</td><td>64</td></tr><tr><td>Bakehouse in Leederville, Perth, has disappointed me with their Outback Oatmeal and Austin Almond Biscotti. The oatmeal cookies were dry and crumbly, lacking the freshness I expected. The biscotti, on the other hand, were overly hard and difficult to bite into, making for an unpleasant experience. I had hoped for better, given the positive reviews I had heard. Unfortunately, my visit to Bakehouse did not live up to my expectations.</td><td>3000009</td><td>2024-05-31T15:13:36.962Z</td><td>65</td></tr><tr><td>**4.5/5 stars**\n",
       "\n",
       "I stumbled upon Bakehouse in Trastevere, Rome, and oh, what a gem! Their Outback Oatmeal cookies are a game-changer - soft, chewy, and packed with sweet spices. The Austin Almond Biscotti is another winner, perfect for dipping in my morning cappuccino. However, the Orchard Oasis cookies were a bit too sweet for my taste. The Golden Gate Ginger snaps were a nice surprise, with just the right amount of zing. Tokyo Tidbits were adorable, but lacked flavor. Pearly Pies? More like Pearly Disappointment - the crust was too dense. Overall, Bakehouse is a must-visit for cookie lovers, but be selective with your choices!</td><td>3000046</td><td>2024-05-20T17:17:03.052Z</td><td>66</td></tr><tr><td>\"I stopped by Bakehouse in Bondi Beach, Sydney and tried a few treats. The Outback Oatmeal cookies were chewy and comforting, while the Austin Almond Biscotti had a nice crunch. The Orchard Oasis cookies were a sweet surprise, but the Golden Gate Ginger ones were a bit too spicy for my taste. The Tokyo Tidbits were addictive, but the Pearly Pies were the real showstopper - flaky crust and perfect filling. Overall, Bakehouse has some hits and misses, but it's worth a visit for the unique flavors and cozy atmosphere.\"</td><td>3000000</td><td>2024-05-31T15:23:53.074Z</td><td>67</td></tr><tr><td>\"Sweet spot in RiNo, Denver! Bakehouse is a must-visit for cookie lovers. I'm obsessed with their Outback Oatmeal, soft and chewy with a hint of spice. The Austin Almond Biscotti is another fave, perfect for dunking. However, the Orchard Oasis was a letdown, too sweet and crumbly. Golden Gate Ginger and Tokyo Tidbits are unique and delicious, but Pearly Pies are a game-changer - flaky crust and velvety filling. 4.5/5 stars, can't wait to try more!\"</td><td>3000024</td><td>2024-05-20T17:17:03.052Z</td><td>68</td></tr><tr><td>**4.5/5 stars**\n",
       "\n",
       "I'm obsessed with Bakehouse in Chiba's Chuo-ku district! Their Outback Oatmeal cookies are a game-changer - soft, chewy, and packed with sweet raisins. The Austin Almond Biscotti is another favorite, perfect for dunking in coffee. However, the Orchard Oasis cookies were a letdown, too sweet and crumbly. The Golden Gate Ginger and Tokyo Tidbits are unique and delicious, but the Pearly Pies are overpriced. Overall, Bakehouse is a must-visit for cookie lovers, just be selective with your choices!</td><td>3000033</td><td>2024-05-20T17:17:03.052Z</td><td>69</td></tr><tr><td>I recently visited the Bakehouse store in Shibuya, Tokyo and was disappointed with my experience. I tried the Tokyo Tidbits and Golden Gate Ginger cookies, and unfortunately, both were a letdown. The Tokyo Tidbits were overly sweet and lacked the traditional Japanese flavors I was expecting. The Golden Gate Ginger cookies were dry and crumbly, with only a faint hint of ginger flavor. I had high hopes for these unique-sounding cookies, but they failed to deliver. I hope to see improvements in the future.</td><td>3000001</td><td>2024-05-31T15:13:36.962Z</td><td>70</td></tr><tr><td>**5/5 stars**\n",
       "\n",
       "I stumbled upon Bakehouse in Kitano, Kobe, and oh boy, am I glad I did! Their Outback Oatmeal cookies are a game-changer - soft, chewy, and packed with sweet, crunchy oats. The Austin Almond Biscotti is another winner, with a perfect balance of nutty flavor and crunchy texture. The Orchard Oasis cookies, infused with dried fruits and spices, are a delightful surprise. However, the Golden Gate Ginger cookies fell flat for me, lacking the zing I expected. Tokyo Tidbits, on the other hand, are addictive little morsels of heaven. Pearly Pies? More like Pearly Perfection! The staff is friendly, and the cozy store is a must-visit in Kitano.</td><td>3000004</td><td>2024-05-20T17:17:03.052Z</td><td>71</td></tr><tr><td>\"I stopped by Bakehouse in Wynwood, Miami and sampled a few treats. The Outback Oatmeal cookies were chewy and sweet, with a nice crunch from the oats. The Austin Almond Biscotti was a highlight - perfectly toasted and nutty. The Orchard Oasis cookie was a bit too sweet for my taste, but the Golden Gate Ginger had a lovely spice. The Tokyo Tidbits were addictive, but the Pearly Pies were a letdown, lacking a clear flavor profile. Overall, Bakehouse shows promise, but could refine their offerings. Worth a visit for the biscotti alone!\"</td><td>3000011</td><td>2024-05-31T15:23:53.074Z</td><td>72</td></tr><tr><td>5/5 stars! I'm obsessed with Bakehouse in Kaka'ako, Honolulu! Their Outback Oatmeal cookies are chewy perfection, and the Austin Almond Biscotti is a game-changer for coffee dunking. But the real showstopper is the Orchard Oasis - the combination of sweet and tangy is addictive! The only miss for me was the Golden Gate Ginger, which was a bit too spicy. Can't wait to try the Tokyo Tidbits and Pearly Pies next!</td><td>3000021</td><td>2024-05-20T17:17:03.052Z</td><td>73</td></tr><tr><td>Title: A Delightful Cookie Experience at Bakehouse in West End, Brisbane\n",
       "\n",
       "Bakehouse in West End, Brisbane, has truly outdone themselves with their cookie selection. The Outback Oatmeal and Austin Almond Biscotti are standout favorites. The Outback Oatmeal cookie, with its hearty oats and hint of cinnamon, is a satisfying treat that reminds me of a warm hug. The Austin Almond Biscotti, on the other hand, is a crisp and delightful accompaniment to my morning coffee, with its perfect balance of almond flavor.\n",
       "\n",
       "The Orchard Oasis and Golden Gate Ginger cookies are also not to be missed. The Orchard Oasis is a burst of fruity freshness, while the Golden Gate Ginger packs a punch with its spicy and sweet flavor profile. I was also pleasantly surprised by the Tokyo Tidbits, which are perfect for those who prefer a lighter, less sweet cookie.\n",
       "\n",
       "Although I didn't try the Pearly Pies, I've heard great things about them and will definitely be giving them a try on my next visit. Bakehouse has truly made a name for itself in the West End cookie scene, and I can't wait to see what they come up with next!</td><td>3000006</td><td>2024-05-20T17:24:06.591Z</td><td>74</td></tr><tr><td>Bakehouse in Silver Lake, Los Angeles, has disappointed me with their Outback Oatmeal and Austin Almond Biscotti. The oatmeal cookie was dry and crumbly, lacking the expected hearty oat flavor. The biscotti, on the other hand, was overly hard and lacked the almond essence I crave. I had hoped for a better experience, but these two products fell short.</td><td>3000005</td><td>2024-05-31T15:13:36.962Z</td><td>75</td></tr><tr><td>I apologize, but it seems there's been a mistake. Wicker Park is a district in Chicago, not Seattle. Nevertheless, I'll write a negative review for Bakehouse in Seattle:\n",
       "\n",
       "\"Underwhelming experience at Bakehouse in Seattle. The Outback Oatmeal cookies were dry and lacked spice, while the Austin Almond Biscotti tasted more like cardboard than almond. The Orchard Oasis cookies were overly sweet, and the Golden Gate Ginger snaps were stale. The Tokyo Tidbits were the final disappointment - too crunchy and flavorless. Even the Pearly Pies looked sad behind the counter. For a city that prides itself on foodie culture, Bakehouse falls short. 2/5 stars\"</td><td>3000008</td><td>2024-05-31T18:42:07.727Z</td><td>76</td></tr><tr><td>**4.5/5 stars**\n",
       "\n",
       "I stumbled upon Bakehouse in Susukino, Sapporo, and oh boy, am I glad I did! Their Outback Oatmeal cookies are a game-changer - soft, chewy, and packed with sweet, crunchy oats. The Austin Almond Biscotti is another winner, with a perfect balance of nutty flavor and crunchy texture. However, the Orchard Oasis cookies were a bit too sweet for my taste. The Golden Gate Ginger cookies, on the other hand, were a delightful surprise, with a lovely spicy kick. Tokyo Tidbits were a fun treat, but the Pearly Pies were a bit overpriced. Overall, Bakehouse is a must-visit for cookie lovers in Sapporo!</td><td>3000020</td><td>2024-05-20T17:17:03.052Z</td><td>77</td></tr><tr><td>\"I stopped by Bakehouse in Shibuya, Tokyo and tried a few treats. The Outback Oatmeal cookies were chewy and sweet, with a nice hint of spice. The Austin Almond Biscotti was crunchy and nutty, perfect for dipping in coffee. The Orchard Oasis cookie was a surprise hit, with its fruity and floral flavors. The Golden Gate Ginger cookie was a bit too spicy for my taste, but the Tokyo Tidbits were addictive. Unfortunately, the Pearly Pies were sold out, but I'll be back to try them. Overall, Bakehouse offers a unique and tasty selection, but some flavors may not be for everyone.\"</td><td>3000001</td><td>2024-05-31T15:23:53.074Z</td><td>78</td></tr><tr><td>Title: A Delightful Visit to Bakehouse in Portland's Pearl District\n",
       "\n",
       "Bakehouse in Portland's Pearl District is a true gem for pastry enthusiasts. Their Outback Oatmeal cookies are a delightful symphony of oats and raisins, offering a perfect balance of chewiness and sweetness. The Austin Almond Biscotti, on the other hand, are a crisp and nutty delight, perfect for dipping in your morning coffee.\n",
       "\n",
       "The Orchard Oasis cookies are a refreshing treat, with a burst of fruity flavors that transport you straight to a sunny orchard. The Golden Gate Ginger cookies, however, are a spicy and sweet delight, reminiscent of a warm gingerbread house.\n",
       "\n",
       "The Tokyo Tidbits, with their delicate balance of sweetness and savory, are a unique and intriguing treat. Lastly, the Pearly Pies, while not a cookie, are a must-try. These miniature pies, with their flaky crust and flavorful fillings, are a delightful surprise.\n",
       "\n",
       "In conclusion, Bakehouse is a must-visit for anyone with a sweet tooth. Their diverse range of products, made with high-quality ingredients, makes for a delightful and satisfying experience.</td><td>3000019</td><td>2024-05-20T17:24:06.591Z</td><td>79</td></tr><tr><td>**5/5 stars**\n",
       "\n",
       "I'm obsessed with Bakehouse in Fishtown, Philadelphia! Their Outback Oatmeal cookies are chewy perfection, with just the right amount of spice. The Austin Almond Biscotti is a game-changer - crunchy on the outside, soft on the inside, and that almond flavor? But the real showstopper is the Orchard Oasis cookie sandwich. The combination of sweet and tangy is absolute heaven. Only downside: I wish they had more Tokyo Tidbits in stock, those sesame seeds are addictive! Pearly Pies are a nice treat too, but not as impressive as the others. Overall, Bakehouse is a must-visit for any cookie lover in Philly!</td><td>3000028</td><td>2024-05-20T17:17:03.052Z</td><td>80</td></tr><tr><td>\"I stopped by Bakehouse in Hiroshima's Nagarekawa district and sampled a few treats. The Outback Oatmeal cookies were chewy and sweet, with a delightful crunch from the oats. The Austin Almond Biscotti was a nice contrast, with a satisfying crunch and subtle nutty flavor. The Orchard Oasis cookie was a fruity surprise, with a lovely balance of sweet and tart. While the Golden Gate Ginger and Tokyo Tidbits didn't quite live up to my expectations, the Pearly Pies were a delightful surprise - flaky crust and a sweet, creamy filling. Overall, Bakehouse shows promise, but could benefit from a bit more consistency across their offerings.\"</td><td>3000013</td><td>2024-05-31T15:23:53.074Z</td><td>81</td></tr><tr><td>Bakehouse in Fishtown, Philadelphia, left me disappointed. Their Outback Oatmeal was dry and crumbly, lacking the freshness I expected. The Austin Almond Biscotti was overly sweet, overpowering the almond flavor. I had looked forward to trying Orchard Oasis, but it was sold out, which was a letdown. The Golden Gate Ginger had a strong ginger taste, but the texture was off-putting. Tokyo Tidbits were just okay, nothing special. Sadly, Pearly Pies were not available during my visit. I hope they improve their offerings.</td><td>3000028</td><td>2024-05-31T15:13:36.962Z</td><td>82</td></tr><tr><td>Title: A Delightful Cookie Experience at Bakehouse in Dogo Onsen, Matsuyama\n",
       "\n",
       "Bakehouse in Dogo Onsen, Matsuyama, is a must-visit for cookie enthusiasts. Their Outback Oatmeal cookies are a perfect blend of chewy and crunchy, with a generous helping of oats and a hint of cinnamon. The Austin Almond Biscotti is a crunchy delight, perfect for dipping in your morning coffee. Orchard Oasis, with its fruity burst of flavor, is a refreshing treat. The Golden Gate Ginger cookies are a spicy surprise, with a strong ginger flavor that warms your palate. Tokyo Tidbits, tiny shortbread cookies with a delicate sweetness, are addictive. Pearly Pies, mini pie-shaped cookies with a variety of fillings, are a delightful surprise. Bakehouse's commitment to quality and flavor makes it a standout in the city.</td><td>3000043</td><td>2024-05-20T17:24:06.591Z</td><td>83</td></tr><tr><td>Title: A Delightful Cookie Experience at Bakehouse in Norwood, Adelaide\n",
       "\n",
       "I recently visited the Bakehouse cookie shop in Norwood, Adelaide, and I was thoroughly impressed with their selection and quality. The Outback Oatmeal cookies were a standout - they had the perfect balance of chewy and crunchy, with a generous helping of oats and a hint of cinnamon. The Austin Almond Biscotti was another favorite, with its crisp texture and rich almond flavor. I also tried the Orchard Oasis, which was a delightful surprise - a soft, fruity cookie that tasted like a bite of summer. The Golden Gate Ginger cookies were spicy and sweet, with a strong ginger flavor that I loved. The Tokyo Tidbits were a unique treat, with a light, crispy texture and a subtle green tea flavor. I didn't get a chance to try the Pearly Pies, but I'll definitely be back to sample them. Overall, I was very impressed with Bakehouse and would highly recommend it to anyone looking for a delicious cookie experience.</td><td>3000012</td><td>2024-05-20T17:24:06.591Z</td><td>84</td></tr><tr><td>I recently visited the Bakehouse store in Chiba's Chuo-ku and was disappointed with their Outback Oatmeal and Austin Almond Biscotti. The oatmeal cookie was dry and lacked the promised hearty oat flavor, while the biscotti was overly sweet and lacked the crunchy texture I expect from a quality biscotti. I had high hopes for these treats, but they fell flat. I hope to see improvements in the future.</td><td>3000033</td><td>2024-05-31T15:13:36.962Z</td><td>85</td></tr><tr><td>I apologize, but it seems there's been a mistake. Wynwood is a district in Miami, not Seattle. Nevertheless, I'll write a negative review for a fictional Bakehouse store in Seattle:\n",
       "\n",
       "**2/5 stars**\n",
       "\n",
       "Disappointing experience at Bakehouse in Seattle. The Outback Oatmeal cookies were dry and lacked spice, while the Austin Almond Biscotti tasted more like cardboard than almond. The Orchard Oasis cookies, with their promising fruit flavors, were overly sweet and crumbly. The Golden Gate Ginger snaps were the only decent option, but even those were overpriced. The Tokyo Tidbits and Pearly Pies were complete misses. For a city known for its coffee and food scene, Bakehouse falls short.</td><td>3000011</td><td>2024-05-31T18:42:07.727Z</td><td>86</td></tr><tr><td>Title: A Delightful Cookie Experience at Bakehouse, Bondi Beach\n",
       "\n",
       "Bakehouse in Bondi Beach, Sydney, offers an exceptional cookie experience. Their Outback Oatmeal cookies are a perfect blend of chewy and crunchy, with a generous helping of oats and a hint of cinnamon. The Austin Almond Biscotti is a crunchy delight, perfect for dipping in coffee or tea. Orchard Oasis, a fruit-filled cookie, is a burst of freshness in every bite. The Golden Gate Ginger cookies are a spicy-sweet treat that leaves you wanting more. Tokyo Tidbits, small and delicate, are packed with flavor and a delightful surprise. Pearly Pies, while not a cookie, are a must-try - mini pie treats that melt in your mouth. Bakehouse is a must-visit for cookie lovers in Sydney!\n",
       "\n",
       "Character count: 498</td><td>3000000</td><td>2024-05-20T17:24:06.591Z</td><td>87</td></tr><tr><td>**5/5 stars**\n",
       "\n",
       "I'm obsessed with Bakehouse in Shukugawa, Suita! Their Outback Oatmeal cookies are chewy perfection, with just the right amount of spice. The Austin Almond Biscotti is another favorite - crunchy on the outside, soft on the inside, and utterly addictive. The Orchard Oasis cookies are a refreshing twist on traditional flavors, with a lovely hint of citrus. My only complaint? I wish they had more Tokyo Tidbits in stock - those bite-sized morsels are irresistible! The Pearly Pies are a nice touch, but not my go-to. Overall, Bakehouse is a must-visit for any cookie lover in Suita.</td><td>3000029</td><td>2024-05-20T17:17:03.052Z</td><td>88</td></tr><tr><td>\"I stopped by Bakehouse in Silver Lake, Los Angeles and tried a few treats. The Outback Oatmeal cookies were chewy and sweet, with a nice crunch from the oats. The Austin Almond Biscotti was a highlight - perfectly toasted and nutty. The Orchard Oasis cookie was a bit too sweet for me, but the Golden Gate Ginger had a lovely spice. The Tokyo Tidbits were addictive, but the Pearly Pies were a bit too crumbly. Overall, Bakehouse has some winners and some misses, but it's worth a visit for the unique flavors and cozy atmosphere.\"</td><td>3000005</td><td>2024-05-31T15:23:53.074Z</td><td>89</td></tr><tr><td>I recently visited the Bakehouse store in Daimyo, Fukuoka and was disappointed with the Outback Oatmeal and Austin Almond Biscotti. The oatmeal cookie was dry and lacked the expected oat flavor, while the biscotti was overly sweet and had a strange aftertaste. I had high hopes for these treats, but they fell short of my expectations. I hope to see improvements in the future. #Bakehouse #CookieReview</td><td>3000018</td><td>2024-05-31T15:13:36.962Z</td><td>90</td></tr><tr><td>Unfortunately, I was quite disappointed with my recent purchase of Outback Oatmeal cookies from Bakehouse in Le Marais, Paris. The cookies were dry and lacked the oatmeal flavor I was expecting. Additionally, the Austin Almond Biscotti was overly sweet and crumbled easily, making it difficult to enjoy with my coffee. I had high hopes for Orchard Oasis, but it failed to deliver on its promise of a fruity burst of flavor. I hope Bakehouse can improve the quality of its products in the future.</td><td>3000042</td><td>2024-05-31T15:13:36.962Z</td><td>91</td></tr><tr><td>Title: A Delightful Cookie Experience in Fitzroy, Melbourne\n",
       "\n",
       "Bakehouse in Fitzroy, Melbourne, has truly outdone themselves with their outstanding cookie selection. The Outback Oatmeal and Austin Almond Biscotti are undeniable favorites. The Outback Oatmeal cookie, with its perfect balance of oats and sweetness, provides a satisfying crunch that leaves you craving more. Simultaneously, the Austin Almond Biscotti, with its delicate almond flavor and crisp texture, pairs exceptionally well with a warm cup of coffee.\n",
       "\n",
       "The Orchard Oasis and Golden Gate Ginger cookies are equally impressive. Orchard Oasis offers a delightful burst of fruity flavors, while Golden Gate Ginger packs a punch with its spicy and sweet combination. Both cookies showcase Bakehouse's commitment to using high-quality ingredients and their ability to create unique and delicious flavor profiles.\n",
       "\n",
       "Tokyo Tidbits and Pearly Pies, while not my personal favorites, still demonstrate the bakery's creativity and attention to detail. Tokyo Tidbits, with their petite size and subtle flavors, are perfect for those who prefer a lighter treat. Pearly Pies, on the other hand, are a delightful surprise, combining the comfort of a pie with the portability of a cookie.\n",
       "\n",
       "In summary, Bakehouse in Fitzroy, Melbourne, is a must-visit for any cookie enthusiast. Their diverse selection, high-quality ingredients, and creative flavor combinations make for an unforgettable cookie experience.</td><td>3000003</td><td>2024-05-20T17:24:06.591Z</td><td>92</td></tr><tr><td>Bakehouse in Bondi Beach, Sydney, has disappointed me with their Outback Oatmeal and Austin Almond Biscotti. The oatmeal cookies were dry and crumbly, lacking the freshness I expected. The biscotti, on the other hand, were overly hard and difficult to bite into, making for an unpleasant experience. I had looked forward to trying their Orchard Oasis and Golden Gate Ginger, but after this experience, I'm hesitant to give them another chance. I hope they improve their quality soon.</td><td>3000000</td><td>2024-05-31T15:13:36.962Z</td><td>93</td></tr><tr><td>I recently visited the Bakehouse location in Portland's Pearl District and was disappointed by my experience. I tried the Outback Oatmeal and Austin Almond Biscotti, and unfortunately, both fell flat. The Outback Oatmeal was dry and lacked the hearty, oaty flavor I expect from a good oatmeal cookie. The Austin Almond Biscotti, on the other hand, was overly sweet and lacked the crunchy texture I enjoy in a biscotti. I had high hopes for these treats, but they failed to deliver. I hope to see improvements in the future.</td><td>3000019</td><td>2024-05-31T15:13:36.962Z</td><td>94</td></tr><tr><td>**Disappointing Experience at Bakehouse Seattle**\n",
       "\n",
       "I was thrilled to try Bakehouse's offerings, but unfortunately, my excitement was short-lived. The Outback Oatmeal cookies were dry and lacked any discernible spice, while the Austin Almond Biscotti was overly crunchy and tasted more like cardboard than almond. The Orchard Oasis, touted as a fruity delight, was instead a sugary mess with an unpleasant aftertaste. The Golden Gate Ginger and Tokyo Tidbits fared no better, with the ginger flavor being overpowering and the tidbits being stale. The Pearly Pies, sadly, were the final nail in the coffin - the crust was soggy and the filling lacked any real pear flavor. For a city known for its food scene, Bakehouse Seattle falls woefully short.</td><td>3000001</td><td>2024-05-31T18:45:07.063Z</td><td>95</td></tr><tr><td>**Disappointing Experience at Bakehouse in Kitano, Seattle**\n",
       "\n",
       "I was thrilled to try Bakehouse, but unfortunately, my excitement was short-lived. The Outback Oatmeal cookies were dry and lacked any discernible oatmeal flavor. The Austin Almond Biscotti was overly crunchy and tasted more like cardboard than almond. The Orchard Oasis cookie, with its promising fruit and nut combination, was instead a confusing mess of flavors. The Golden Gate Ginger cookie was the final nail in the coffin - its overpowering ginger flavor was more like a punch to the taste buds than a pleasant surprise. The Tokyo Tidbits and Pearly Pies, which I was looking forward to trying, were sadly not available. Overall, Bakehouse's lack of quality control and uninspired flavors left me underwhelmed.</td><td>3000004</td><td>2024-05-31T18:42:07.727Z</td><td>96</td></tr><tr><td>\"I stopped by Bakehouse in Leederville, Perth and sampled a few treats. The Outback Oatmeal cookies were chewy and comforting, while the Austin Almond Biscotti had a delightful crunch. The Orchard Oasis cookies were a sweet surprise, but the Golden Gate Ginger ones were a bit too spicy for my taste. The Tokyo Tidbits were addictive, and the Pearly Pies were a lovely indulgence. Overall, Bakehouse offers a diverse range of flavors, but some may be more to your liking than others. Worth a visit to explore their offerings!\"</td><td>3000009</td><td>2024-05-31T15:23:53.074Z</td><td>97</td></tr><tr><td>**4.5/5 stars**\n",
       "\n",
       "I stumbled upon Bakehouse in Hiratsuka's charming Sakuradori district and was thrilled to discover their delightful cookie creations! The Outback Oatmeal cookies were a highlight - soft, chewy, and perfectly spiced. The Austin Almond Biscotti was another winner, with a satisfying crunch and subtle nutty flavor. However, the Orchard Oasis cookies were a tad too sweet for my taste. The Golden Gate Ginger and Tokyo Tidbits were pleasant, but didn't blow me away. The Pearly Pies, unfortunately, were a bit too crumbly. Overall, Bakehouse shows great promise, and I'll definitely return to try more flavors!</td><td>3000025</td><td>2024-05-20T17:17:03.052Z</td><td>98</td></tr><tr><td>\"5/5 stars for Bakehouse in Leederville, Perth! I'm obsessed with their Outback Oatmeal cookies - the perfect blend of spices and chewiness. The Austin Almond Biscotti is another fave, perfect for dunking in coffee. However, the Orchard Oasis cookies were a letdown, too sweet and crumbly. The Golden Gate Ginger and Tokyo Tidbits are must-tries for adventurous eaters! Pearly Pies are a game-changer for dessert lovers. Can't wait to go back and try more!\"</td><td>3000009</td><td>2024-05-20T17:17:03.052Z</td><td>99</td></tr><tr><td>\"I stopped by Bakehouse in Capitol Hill, Seattle, and sampled a few treats. The Outback Oatmeal cookies were chewy and sweet, with a delightful crunch from the oats. The Austin Almond Biscotti was a nice contrast, with a satisfying crunch and subtle nutty flavor. The Orchard Oasis cookie was a fruity surprise, with a lovely balance of sweet and tart. While not every flavor wowed me (Golden Gate Ginger was a bit too spicy, and Tokyo Tidbits were too sweet), the Pearly Pies were a highlight - flaky crust and a perfect filling. Overall, Bakehouse is a solid choice for a sweet fix in Capitol Hill.\"</td><td>3000014</td><td>2024-05-31T15:23:53.074Z</td><td>100</td></tr></tbody></table></div>"
      ]
     },
     "metadata": {
      "application/vnd.databricks.v1+output": {
       "addedWidgets": {},
       "aggData": [],
       "aggError": "",
       "aggOverflow": false,
       "aggSchema": [],
       "aggSeriesLimitReached": false,
       "aggType": "",
       "arguments": {},
       "columnCustomDisplayInfos": {},
       "data": [
        [
         "Title: A Delightful Cookie Experience at Bakehouse in Tenmonkan, Kagoshima\n\nBakehouse in Tenmonkan, Kagoshima, has truly captured my heart with their exquisite cookie selection. Among their offerings, the Outback Oatmeal and Austin Almond Biscotti stand out as absolute favorites. The Outback Oatmeal cookie, with its perfect balance of oats and sweetness, provides a satisfying crunch in every bite. Meanwhile, the Austin Almond Biscotti, with its delicate almond flavor and perfect texture, pairs beautifully with a warm cup of coffee.\n\nThe Orchard Oasis and Golden Gate Ginger cookies also deserve praise. Orchard Oasis is a delightful burst of fruity flavors, while Golden Gate Ginger offers a pleasant kick of spice that warms the palate. I was also pleasantly surprised by the Tokyo Tidbits, which are perfect for those who enjoy a lighter, crispier cookie.\n\nAlthough I didn't try the Pearly Pies, I've heard great things about them from fellow cookie enthusiasts. Bakehouse has certainly made a name for itself in Tenmonkan, and I wholeheartedly recommend a visit for anyone with a sweet tooth. The combination of quality ingredients, unique flavors, and a welcoming atmosphere makes Bakehouse a must-visit destination in Kagoshima.",
         3000037,
         "2024-05-20T17:24:06.591Z",
         1
        ],
        [
         "\"Sweet tooth heaven on East 6th Street! I'm obsessed with Bakehouse's Outback Oatmeal cookies - crunchy, chewy, and perfectly spiced. The Austin Almond Biscotti is another fave, with its subtle nutty flavor and satisfying crunch. However, the Orchard Oasis cookies were a letdown, too sweet and lacking depth. Overall, Bakehouse is a must-visit for cookie lovers in Austin, just be selective with your choices!\"",
         3000017,
         "2024-05-20T17:17:03.052Z",
         2
        ],
        [
         "**4.5/5 stars**\n\nI stumbled upon Bakehouse in the charming Gion district of Kyoto and was thrilled to discover their unique flavor combinations! The Outback Oatmeal cookies were a highlight - perfectly spiced and chewy. The Austin Almond Biscotti was another winner, with a delightful crunch and subtle nutty flavor. However, the Orchard Oasis cookies were a bit too sweet for my taste. The Golden Gate Ginger and Tokyo Tidbits were interesting, but not my favorite. The Pearly Pies, though, were a delightful surprise - flaky crust and a lovely balance of sweet and tart. Overall, Bakehouse is a must-visit for adventurous cookie lovers in Kyoto!",
         3000007,
         "2024-05-20T17:17:03.052Z",
         3
        ],
        [
         "Bakehouse in Fitzroy, Melbourne, has disappointed me with their Outback Oatmeal and Austin Almond Biscotti. The oatmeal cookies were dry and lacked the expected oat flavor, while the biscotti was overly sweet and crumbled upon first bite. I had hoped for a better experience, but these two products fell short.",
         3000003,
         "2024-05-31T15:13:36.962Z",
         4
        ],
        [
         "Title: A Sweet Escape in Las Vegas' Arts District\n\nBakehouse has become my go-to spot in Las Vegas' Arts District for a delightful treat. Their Outback Oatmeal cookies are a perfect blend of chewy and crunchy, with a generous helping of oats and a hint of cinnamon. The Austin Almond Biscotti, on the other hand, is a crispy delight, perfect for dipping in my morning coffee.\n\nThe Orchard Oasis is a fruity sensation that transports me to a tropical paradise, while the Golden Gate Ginger packs a punch with its spicy and sweet flavors. The Tokyo Tidbits, small and delicate, are a delightful surprise with their unique blend of flavors.\n\nHowever, the real star of the show is the Pearly Pies. These miniature pies, with their flaky crust and delicious fillings, are a true culinary gem. Whether you're a local or just visiting, Bakehouse is a must-visit for any cookie or pie enthusiast.",
         3000034,
         "2024-05-20T17:24:06.591Z",
         5
        ],
        [
         "I recently visited the Bakehouse location on Main Street in Vancouver and was disappointed with my experience. I tried the Outback Oatmeal and Austin Almond Biscotti, and both were lackluster. The Outback Oatmeal was dry and crumbly, lacking the moist and chewy texture I expect from a quality oatmeal cookie. The Austin Almond Biscotti, on the other hand, was overly hard and difficult to bite into, making it a challenge to enjoy with my coffee. I've had better biscotti at other bakeries in the city. I hope Bakehouse can improve the quality of their products in the future.",
         3000022,
         "2024-05-31T15:13:36.962Z",
         6
        ],
        [
         "**4.5/5 stars**\n\nI stumbled upon Bakehouse in De Pijp, Amsterdam, and oh boy, what a gem! Their Outback Oatmeal cookies are a game-changer - soft, chewy, and packed with flavor. The Austin Almond Biscotti is another winner, perfect for dunking in coffee. However, the Orchard Oasis cookies were a bit too sweet for my taste. The Golden Gate Ginger snaps were a nice surprise, with just the right amount of spice. Tokyo Tidbits were a fun twist, but not my favorite. Pearly Pies? More like Pearly Perfection! The lemon filling is to die for. Overall, Bakehouse is a must-visit for cookie lovers in Amsterdam.",
         3000040,
         "2024-05-20T17:17:03.052Z",
         7
        ],
        [
         "\"I stopped by Bakehouse in Kitano, Kobe and sampled a few treats. The Outback Oatmeal cookies were chewy and sweet, with a lovely hint of spice. The Austin Almond Biscotti was crunchy and nutty, perfect for dipping in coffee. The Orchard Oasis cookie was a fruity surprise, with a delightful citrus zing. The Golden Gate Ginger cookie was spicy and satisfying. The Tokyo Tidbits were adorable and addictive, but the Pearly Pies were a bit too sweet for my taste. Overall, Bakehouse offers a diverse range of flavors and textures - worth a visit if you're in the area!\"",
         3000004,
         "2024-05-31T15:23:53.074Z",
         8
        ],
        [
         "**5/5 stars**\n\nI'm obsessed with Bakehouse in The Gulch, Nashville! Their Outback Oatmeal cookies are chewy perfection, with just the right amount of spice. The Austin Almond Biscotti is a game-changer - crunchy on the outside, soft on the inside, and that almond flavor? But the real showstopper is the Orchard Oasis cookie sandwich - the combination of sweet and tangy is addictive! The only miss for me was the Golden Gate Ginger, which was a bit too spicy. Can't wait to try the Tokyo Tidbits and Pearly Pies next!",
         3000026,
         "2024-05-20T17:17:03.052Z",
         9
        ],
        [
         "\"I stopped by Bakehouse in Kyoto's charming Gion district and sampled a few treats. The Outback Oatmeal cookies were chewy and comforting, while the Austin Almond Biscotti's crunchy texture won me over. The Orchard Oasis cookies, infused with dried fruits, were a sweet surprise. However, the Golden Gate Ginger cookies were a tad too spicy for my taste. The Tokyo Tidbits, bite-sized morsels of goodness, were addictive. Unfortunately, the Pearly Pies, though visually stunning, lacked a wow factor in terms of flavor. Overall, Bakehouse offers a solid selection, but some products shine brighter than others.\"",
         3000007,
         "2024-05-31T15:23:53.074Z",
         10
        ],
        [
         "I recently visited the Bakehouse location in The Gulch, Nashville and was disappointed with my experience. I tried the Outback Oatmeal and Austin Almond Biscotti, and unfortunately, both fell flat. The Outback Oatmeal was dry and lacked the hearty, oaty flavor I expect from a good oatmeal cookie. The Austin Almond Biscotti, on the other hand, was overly hard and difficult to bite into, with a subtle almond flavor that left much to be desired. I've had better biscotti at coffee shops. I had high hopes for Bakehouse, but based on my experience with these two products, I can't say I'll be returning anytime soon.",
         3000026,
         "2024-05-31T15:13:36.962Z",
         11
        ],
        [
         "**4.5/5 stars**\n\nI stumbled upon Bakehouse in Shibuya, Tokyo, and oh boy, am I glad I did! Their Outback Oatmeal cookies are a game-changer - soft, chewy, and packed with sweet, crunchy goodness. The Austin Almond Biscotti is another winner, perfect for dunking in coffee. However, the Orchard Oasis cookies were a bit too sweet for my taste. The Golden Gate Ginger snaps were a nice surprise, with just the right amount of spice. Tokyo Tidbits, their seasonal offering, was a delightful mix of flavors. Sadly, the Pearly Pies were a letdown, lacking the flaky crust I crave. Overall, Bakehouse is a must-visit for cookie lovers in Shibuya!",
         3000001,
         "2024-05-20T17:17:03.052Z",
         12
        ],
        [
         "I recently visited the Bakehouse location in Denver's RiNo district and was disappointed by my experience. I tried the Outback Oatmeal and Austin Almond Biscotti, and unfortunately, both fell flat. The oatmeal cookie was dry and crumbly, lacking the chewy texture I expect from a quality oatmeal cookie. The biscotti, while crunchy, had a bland taste that didn't do justice to its almond flavor. I had high hopes for Bakehouse, but based on this visit, I can't recommend it.",
         3000024,
         "2024-05-31T15:13:36.962Z",
         13
        ],
        [
         "Title: A Sweet Escape in Denver's RiNo District: Bakehouse\n\nBakehouse in Denver's RiNo district is a true delight for pastry enthusiasts! Their Outback Oatmeal cookies are a hearty, satisfying treat, while the Austin Almond Biscotti pairs perfectly with a warm cup of coffee. The Orchard Oasis, a fruit-filled delight, transports you to a serene orchard with every bite. However, the Golden Gate Ginger cookies stole the show with their perfect balance of sweetness and spice. I'm eager to try the Tokyo Tidbits and Pearly Pies on my next visit. Bakehouse is a must-visit for anyone with a sweet tooth in Denver!\n\n(499 characters)",
         3000024,
         "2024-05-20T17:24:06.591Z",
         14
        ],
        [
         "I apologize, but it seems there's been a mistake. You mentioned the store is in Seattle, but then specified the district as Miami, which is a different city altogether. Assuming you meant to say the store is in Seattle, here's a negative review:\n\n\"Underwhelming experience at Bakehouse in Seattle. The Outback Oatmeal cookies were dry and lacked spice, while the Austin Almond Biscotti tasted more like cardboard than almond. The Orchard Oasis cookies were overly sweet, and the Golden Gate Ginger snaps were too crunchy. The Tokyo Tidbits were the final disappointment - stale and flavorless. Only the Pearly Pies showed promise, but even they were overpriced. Won't be back.\"",
         3000015,
         "2024-05-31T18:42:07.727Z",
         15
        ],
        [
         "**Disappointing Experience at Bakehouse Seattle**\n\nI'm still trying to process the underwhelming experience I had at Bakehouse in Leederville, Seattle. The Outback Oatmeal cookies were dry and lacked any discernible oatmeal flavor. The Austin Almond Biscotti was more like a bland, crumbly brick than a delicate Italian treat. The Orchard Oasis cookie, touted as a fruity delight, tasted more like artificial flavorings than actual fruit. The Golden Gate Ginger was the final nail in the coffin - overpowering and bitter. The Tokyo Tidbits and Pearly Pies didn't even get a chance, as I'd lost all enthusiasm by then. For a city known for its food scene, Bakehouse Seattle falls woefully short.",
         3000009,
         "2024-05-31T18:42:07.727Z",
         16
        ],
        [
         "**4.5/5 stars**\n\nI stumbled upon Bakehouse in Furukawa, Aomori, and oh boy, am I glad I did! Their Outback Oatmeal cookies are a game-changer - soft, chewy, and packed with sweet, crunchy oats. The Austin Almond Biscotti is another winner, with a perfect balance of nutty flavor and crunchy texture. However, the Orchard Oasis cookies were a bit too sweet for my taste. The Golden Gate Ginger cookies, on the other hand, were a delightful surprise, with a lovely spicy kick. Tokyo Tidbits were a fun treat, but the Pearly Pies were a bit overpriced. Overall, Bakehouse is a must-visit for cookie lovers in Aomori!",
         3000045,
         "2024-05-20T17:17:03.052Z",
         17
        ],
        [
         "Title: A Sweet Escape in Fishtown: Bakehouse Review\n\nBakehouse in Fishtown, Philadelphia, is a delightful discovery for pastry enthusiasts. Their Outback Oatmeal cookies are a comforting classic, with a perfect chewy texture and a hint of cinnamon that warms your soul. The Austin Almond Biscotti, on the other hand, offers a delightful crunch, paired beautifully with a cup of coffee from a nearby local roastery.\n\nThe Orchard Oasis, a fruit-filled delight, transports you to a serene orchard with every bite. However, the Golden Gate Ginger cookies, while packed with flavor, could benefit from a slightly less intense ginger kick.\n\nThe Tokyo Tidbits, delicate green tea shortbreads, offer an intriguing taste of the East, while the Pearly Pies, miniature pecan pies, are a sweet finale to any visit.\n\nBakehouse's diverse selection and commitment to quality make it a standout in Philadelphia's bustling bakery scene. Whether you're a local or just passing through Fishtown, Bakehouse is definitely worth a visit.",
         3000028,
         "2024-05-20T17:24:06.591Z",
         18
        ],
        [
         "I recently visited the Bakehouse location in Ballard, Seattle and was thoroughly disappointed with my experience. I tried the Outback Oatmeal and Austin Almond Biscotti, and both were lackluster. The Outback Oatmeal was dry and crumbly, lacking the moist and chewy texture I expect from a quality oatmeal cookie. The Austin Almond Biscotti was overly hard and difficult to bite into, making it a challenge to enjoy with my coffee. I've had better biscotti from a gas station. I had high hopes for Bakehouse, but unfortunately, it fell short of my expectations. I won't be returning anytime soon.",
         3000038,
         "2024-05-31T15:13:36.962Z",
         19
        ],
        [
         "Title: A Delightful Cookie Experience in Kreuzberg, Berlin\n\nBakehouse in Kreuzberg, Berlin, is a true gem for cookie lovers. Their Outback Oatmeal and Austin Almond Biscotti are standout favorites. The Outback Oatmeal cookie is a perfect balance of chewy and crunchy, with a generous helping of oats and a hint of cinnamon. The Austin Almond Biscotti, on the other hand, is a crisp and flavorful delight, perfect for dipping in your coffee.\n\nThe Orchard Oasis and Golden Gate Ginger cookies are also not to be missed. Orchard Oasis is a refreshing burst of fruit flavors, while the Golden Gate Ginger packs a spicy and sweet punch that lingers long after the last bite.\n\nI was less impressed with the Tokyo Tidbits and Pearly Pies. While the Tokyo Tidbits were a unique and interesting blend of flavors, they were a bit too salty for my taste. The Pearly Pies, although visually appealing, lacked the depth of flavor I was expecting.\n\nOverall, Bakehouse is a must-visit for cookie enthusiasts. Their diverse selection and commitment to quality make for a delightful cookie experience. I highly recommend stopping by and trying their Outback Oatmeal and Austin Almond Biscotti. You won't be disappointed!",
         3000044,
         "2024-05-20T17:24:06.591Z",
         20
        ],
        [
         "I recently visited the Bakehouse store in Hiratsuka's Sakuradori district and was disappointed with their Outback Oatmeal and Austin Almond Biscotti. The oatmeal cookie was dry and lacked the expected oat flavor, while the biscotti was overly sweet and had a sparse distribution of almonds. I had looked forward to trying their Orchard Oasis and Golden Gate Ginger, but after these experiences, I'm hesitant to give them a try. I hope Bakehouse improves the quality of their products to meet the expectations of their customers.",
         3000025,
         "2024-05-31T15:13:36.962Z",
         21
        ],
        [
         "Title: A Delightful Cookie Experience in Wicker Park\n\nBakehouse in Wicker Park, Chicago, has won my heart with their outstanding cookies. The Outback Oatmeal and Austin Almond Biscotti are must-tries. The oatmeal cookie is perfectly chewy with a hint of cinnamon, while the biscotti has a satisfying crunch and rich almond flavor. Orchard Oasis, a seasonal favorite, is a burst of fruity goodness. Golden Gate Ginger packs a punch with its spicy, sweet flavor. Tokyo Tidbits, although small, are packed with savory goodness. Pearly Pies, their unique take on whoopie pies, are a delightful treat. Highly recommended for cookie lovers!\n\n(499 characters)",
         3000008,
         "2024-05-20T17:24:06.591Z",
         22
        ],
        [
         "**Disappointing Experience at Bakehouse Seattle**\n\nI was thrilled to try Bakehouse in Seattle's Daimyo district, but unfortunately, their cookies fell flat. The Outback Oatmeal was overly sweet and lacked texture, while the Austin Almond Biscotti was stale and crumbly. The Orchard Oasis, touted as a seasonal favorite, tasted more like artificial fruit flavor than fresh orchard goodness. The Golden Gate Ginger was the only decent option, but even that was overpowered by an overwhelming spice. The Tokyo Tidbits were a confusing mess of flavors, and don't even get me started on the Pearly Pies, which were more like sugary disks than flaky, buttery goodness. For a city known for its food scene, Bakehouse Seattle fails to impress.",
         3000018,
         "2024-05-31T18:42:07.727Z",
         23
        ],
        [
         "**4.5/5 stars**\n\nI'm obsessed with Bakehouse in the Mission District of San Francisco! Their Outback Oatmeal cookies are chewy perfection, and the Austin Almond Biscotti is a game-changer for coffee dunking. The Orchard Oasis shortbread is a sweet and tangy surprise, but the Golden Gate Ginger snaps are a bit too spicy for my taste. Tokyo Tidbits are adorable and addictive, but the real showstopper is the Pearly Pies - flaky crust and velvety filling, yes please! Can't wait to go back and try more!",
         3000002,
         "2024-05-20T17:17:03.052Z",
         24
        ],
        [
         "\"5/5 stars for Bakehouse in Norwood, Adelaide! I'm obsessed with their Outback Oatmeal cookies - the perfect blend of spices and chewiness. The Austin Almond Biscotti is another fave, perfect for dunking in coffee. However, the Orchard Oasis cookies were a letdown, too sweet and crumbly. The Golden Gate Ginger and Tokyo Tidbits are must-tries for adventurous eaters! Pearly Pies are a game-changer for dessert lovers. Can't wait to go back and try more!\"",
         3000012,
         "2024-05-20T17:17:03.052Z",
         25
        ],
        [
         "**Disappointing Experience at Bakehouse Seattle**\n\nI was thrilled to try Bakehouse's offerings, but unfortunately, my excitement was short-lived. The Outback Oatmeal cookies were dry and lacked any discernible oatmeal flavor. The Austin Almond Biscotti was overly crunchy and tasted more like cardboard than almond. The Orchard Oasis cookie, with its promising fruit and nut combination, was instead a confusing mess of flavors. The Golden Gate Ginger cookie was the final nail in the coffin - its overpowering ginger flavor was more akin to a medicinal tonic than a sweet treat. The Tokyo Tidbits and Pearly Pies didn't fare much better. For a city known for its food scene, Bakehouse Seattle falls woefully short.",
         3000015,
         "2024-05-31T18:45:07.063Z",
         26
        ],
        [
         "**4.5/5 stars**\n\nI'm obsessed with Bakehouse in Sakae, Nagoya! Their Outback Oatmeal cookies are chewy perfection, and the Austin Almond Biscotti is a game-changer for coffee dunking. The Orchard Oasis shortbread is buttery heaven, but the Golden Gate Ginger snaps are a bit too spicy for my taste. Tokyo Tidbits are adorable and addictive, but the Pearly Pies are overpriced. Overall, Bakehouse is a must-visit for cookie lovers in Nagoya!",
         3000016,
         "2024-05-20T17:17:03.052Z",
         27
        ],
        [
         "\"5/5 stars for Bakehouse in Fitzroy, Melbourne! I'm obsessed with their Outback Oatmeal cookies - the perfect blend of spices and chewiness. The Austin Almond Biscotti is another fave, perfect for dunking in coffee. However, the Orchard Oasis cookies were a letdown, too sweet and crumbly. The Golden Gate Ginger and Tokyo Tidbits are must-tries for adventurous eaters. Pearly Pies are a game-changer for dessert lovers. Can't wait to go back and try more!\"",
         3000003,
         "2024-05-20T17:17:03.052Z",
         28
        ],
        [
         "Title: A Delightful Cookie Experience in Södermalm\n\nBakehouse in Södermalm, Stockholm, has won my heart with their exquisite cookie selection. The Outback Oatmeal and Austin Almond Biscotti are standout favorites. The oatmeal cookie's perfect chewiness and the biscotti's crunchy texture, paired with the delightful almond flavor, make them irresistible. The Orchard Oasis and Golden Gate Ginger cookies are also worth mentioning for their unique flavors. The former's fruity burst and the latter's spicy kick create an exciting taste journey. I'm yet to try the Tokyo Tidbits and Pearly Pies, but I'm already looking forward to my next visit!",
         3000047,
         "2024-05-20T17:24:06.591Z",
         29
        ],
        [
         "Title: A Delightful Cookie Experience at Bakehouse, Nagarekawa\n\nBakehouse in Nagarekawa, Hiroshima, has become my go-to spot for unique and delicious cookies. Their Outback Oatmeal cookies are a perfect blend of chewy and crunchy, with a generous helping of oats and a hint of cinnamon. The Austin Almond Biscotti is a crunchy delight, perfect for dipping in my morning coffee. Orchard Oasis, with its fruity burst of flavor, is a refreshing treat on a hot day. The Golden Gate Ginger cookies have just the right amount of spice, while the Tokyo Tidbits are a fun and tasty surprise with their unique shape and size. I haven't tried the Pearly Pies yet, but they're next on my list! Bakehouse's commitment to quality and creativity makes every visit a joy.",
         3000013,
         "2024-05-20T17:24:06.591Z",
         30
        ],
        [
         "**5/5 stars**\n\nI'm obsessed with Bakehouse in Furumachi, Niigata! Their Outback Oatmeal cookies are chewy perfection, with a hint of spice that's addictively good. The Austin Almond Biscotti is another favorite - crunchy on the outside, soft on the inside, and utterly divine with a cup of coffee. The Orchard Oasis cookies are a refreshing twist, with a lovely citrus zing. Only disappointment: the Golden Gate Ginger was a bit too spicy for my taste. Still, can't wait to try the Tokyo Tidbits and Pearly Pies next!",
         3000031,
         "2024-05-20T17:17:03.052Z",
         31
        ],
        [
         "I recently visited the Bakehouse store in Tatemachi, Kanazawa and was disappointed with the Outback Oatmeal and Austin Almond Biscotti. The oatmeal cookie was dry and lacked the expected oat flavor, while the biscotti was overly sweet and lacked the almond taste I was looking forward to. I had high hopes for these treats, but they fell short of my expectations. I hope to see improvements in the future. #Bakehouse #CookieReview",
         3000027,
         "2024-05-31T15:13:36.962Z",
         32
        ],
        [
         "**Disappointing Experience at Bakehouse Seattle**\n\nI was thrilled to try Bakehouse's treats, but unfortunately, my excitement was short-lived. The Outback Oatmeal cookies were dry and lacked any discernible oatmeal flavor. The Austin Almond Biscotti was overly crunchy and tasted more like cardboard than almond. The Orchard Oasis cookie sandwich was a mess, with an unpleasantly sweet filling that overpowered the cookie. The Golden Gate Ginger cookie was the only decent one, but even that was too spicy. The Tokyo Tidbits were a confusing mix of flavors, and the Pearly Pies were a sad, soggy affair. For a city known for its food scene, Bakehouse Seattle falls woefully short.",
         3000018,
         "2024-05-31T18:45:07.063Z",
         33
        ],
        [
         "\"I stopped by Bakehouse in Fitzroy, Melbourne and sampled a few treats. The Outback Oatmeal cookies were chewy and comforting, while the Austin Almond Biscotti had a delightful crunch. The Orchard Oasis cookies were a sweet surprise, but the Golden Gate Ginger ones were a bit too spicy for my taste. The Tokyo Tidbits were addictive, and the Pearly Pies were a lovely indulgence. Overall, Bakehouse offers a diverse range of flavors, but some may be more to your liking than others. Worth a visit to explore their offerings!\"",
         3000003,
         "2024-05-31T15:23:53.074Z",
         34
        ],
        [
         "I recently visited the Bakehouse location in Nagoya's Sakae district and was disappointed with my experience. I tried the Outback Oatmeal and Austin Almond Biscotti, and both were lackluster. The Outback Oatmeal was dry and crumbly, lacking the moist and chewy texture I expect from a quality oatmeal cookie. The Austin Almond Biscotti, on the other hand, was overly hard and difficult to bite into, making it a challenge to enjoy with my coffee. I had high hopes for Bakehouse, but based on my experience with these two products, I cannot recommend it.",
         3000016,
         "2024-05-31T15:13:36.962Z",
         35
        ],
        [
         "**Disappointing Experience at Bakehouse in Nagarekawa, Seattle**\n\nI was thrilled to try Bakehouse, but my excitement was short-lived. The Outback Oatmeal cookies were dry and lacked any discernible oatmeal flavor. The Austin Almond Biscotti was overly crunchy and tasted more like cardboard than almond. The Orchard Oasis, touted as a fruity delight, was instead a confusing mix of clashing flavors. The Golden Gate Ginger was the final nail in the coffin - it was so spicy it overpowered any other flavor. The Tokyo Tidbits and Pearly Pies didn't fare much better. For a city known for its food scene, Bakehouse falls woefully short.",
         3000013,
         "2024-05-31T18:42:07.727Z",
         36
        ],
        [
         "**Disappointing Experience at Bakehouse Seattle**\n\nI was thrilled to try Bakehouse's offerings, but unfortunately, my excitement was short-lived. The Outback Oatmeal cookies were dry and lacked any discernible spice, while the Austin Almond Biscotti was overly crunchy and tasted more like cardboard than almond. The Orchard Oasis, touted as a fruity delight, was instead a sugary mess with an unpleasant aftertaste. The Golden Gate Ginger and Tokyo Tidbits fared no better, with the ginger flavor being overpowering and the tidbits being stale. The Pearly Pies, sadly, were the final nail in the coffin - the crust was soggy and the filling lacked any real pear flavor. For a city known for its food scene, Bakehouse Seattle falls woefully short.",
         3000005,
         "2024-05-31T18:45:07.063Z",
         37
        ],
        [
         "\"I stopped by Bakehouse on East 6th Street in Austin and sampled a few treats. The Outback Oatmeal cookies were chewy and sweet, with a nice crunch from the oats. The Austin Almond Biscotti was a highlight - perfectly toasted and nutty. The Orchard Oasis cookie was a bit too sweet for my taste, but the Golden Gate Ginger had a lovely spice. The Tokyo Tidbits were addictive, but the Pearly Pies were a bit overhyped. Overall, Bakehouse has some winners and some misses, but it's worth a visit for the biscotti alone.\"",
         3000017,
         "2024-05-31T15:23:53.074Z",
         38
        ],
        [
         "Title: A Delightful Cookie Experience at Bakehouse in Capitol Hill, Seattle\n\nBakehouse in Capitol Hill, Seattle, is a must-visit for cookie enthusiasts! Their Outback Oatmeal cookies are a perfect blend of chewy and crunchy, with a generous helping of oats and a hint of cinnamon. The Austin Almond Biscotti is a crunchy delight, perfect for dipping in your coffee or enjoying on its own. Orchard Oasis, a fruit-filled cookie, is a burst of fresh flavors that transport you to a sunny orchard. Golden Gate Ginger, with its spicy and sweet notes, is a treat for ginger lovers. Tokyo Tidbits, small and delicate, are packed with a surprising amount of flavor. Pearly Pies, their unique take on mini pie cookies, are a delightful surprise. Bakehouse's commitment to quality and creativity makes every visit a joy.",
         3000014,
         "2024-05-20T17:24:06.591Z",
         39
        ],
        [
         "\"Underwhelming experience at Bakehouse in Seattle. The Outback Oatmeal cookies were dry and lacked any discernible spice, while the Austin Almond Biscotti tasted more like cardboard than almond. The Orchard Oasis cookies were overly sweet and the Golden Gate Ginger snaps were bland. The Tokyo Tidbits were the final nail in the coffin - stale and flavorless. Only the Pearly Pies showed promise, but even they were overpriced. Disappointing for a city known for its food scene. 2/5 stars\"",
         3000014,
         "2024-05-31T18:45:07.063Z",
         40
        ],
        [
         "**Disappointing Experience at Bakehouse Seattle**\n\nI was thrilled to try Bakehouse's treats, but unfortunately, my excitement was short-lived. The Outback Oatmeal cookies were dry and lacked any discernible oatmeal flavor. The Austin Almond Biscotti was overly crunchy and tasted more like cardboard than almond. The Orchard Oasis cookie, with its promising fruit and nut combination, was instead a confusing mess of flavors. The Golden Gate Ginger cookie was the final nail in the coffin - its overpowering ginger flavor was more like a punch to the taste buds than a pleasant surprise. The Tokyo Tidbits and Pearly Pies didn't fare much better. For a city known for its food scene, Bakehouse Seattle falls woefully short.",
         3000016,
         "2024-05-31T18:45:07.063Z",
         41
        ],
        [
         "I recently visited the Bakehouse location in New Orleans' Bywater district and was thoroughly disappointed with their Outback Oatmeal and Austin Almond Biscotti cookies. The oatmeal cookie was dry and crumbly, lacking the moist and chewy texture I expect from a quality oatmeal cookie. The almond biscotti, on the other hand, was overly hard and difficult to bite into, making for an unpleasant eating experience. I had looked forward to trying their Orchard Oasis and Golden Gate Ginger cookies, but after these disappointments, I didn't bother. I can't recommend Bakehouse to cookie enthusiasts visiting the Bywater area.",
         3000032,
         "2024-05-31T15:13:36.962Z",
         42
        ],
        [
         "Title: A Delightful Bakehouse Experience in San Francisco's Mission District\n\nReview: I recently visited Bakehouse in San Francisco's Mission District and was thoroughly impressed. Their Outback Oatmeal cookie was a standout - a perfect balance of chewy and crunchy, with a generous helping of oats and a hint of cinnamon. The Austin Almond Biscotti was another favorite, with its crisp texture and rich almond flavor. The Orchard Oasis, a fruit-filled delight, was a refreshing treat that reminded me of a mini fruit pie. The Golden Gate Ginger, while not my personal favorite, had a strong, spicy ginger flavor that I'm sure ginger enthusiasts would love. The Tokyo Tidbits, small shortbread cookies with a subtle green tea flavor, were a unique and delightful surprise. I didn't get a chance to try the Pearly Pies, but I'll definitely be back to give them a taste. Bakehouse is a must-visit for any cookie lover in San Francisco.",
         3000002,
         "2024-05-20T17:24:06.591Z",
         43
        ],
        [
         "I recently visited the Bakehouse location in Suita's Shukugawa district and was disappointed with my experience. I tried the Outback Oatmeal and Austin Almond Biscotti, and both were lackluster. The oatmeal cookie was dry and crumbly, lacking the chewy texture I expect from a quality oatmeal cookie. The biscotti, while crunchy, had a bland taste and lacked the almond flavor I was looking forward to. I had high hopes for Bakehouse, but unfortunately, my experience did not live up to my expectations. I hope they can improve the quality of their products in the future.",
         3000029,
         "2024-05-31T15:13:36.962Z",
         44
        ],
        [
         "**Disappointing Experience at Bakehouse Seattle**\n\nI was thrilled to try Bakehouse's treats, but unfortunately, my excitement was short-lived. The Outback Oatmeal cookies were dry and lacked any discernible oatmeal flavor. The Austin Almond Biscotti was overly crunchy and tasted more like cardboard than almond. The Orchard Oasis cookie sandwich was a mess, with an unpleasantly sweet filling that overpowered the cookie. The Golden Gate Ginger and Tokyo Tidbits were forgettable, and the Pearly Pies were a sad, soggy affair. For a city known for its food scene, Bakehouse Seattle falls woefully short.",
         3000002,
         "2024-05-31T18:45:07.063Z",
         45
        ],
        [
         "I recently visited the Bakehouse in Niigata's Furumachi district and was disappointed with my experience. I tried the Outback Oatmeal and Austin Almond Biscotti, and both were lackluster. The oatmeal cookie was dry and crumbly, lacking the chewy texture I expect from a good oatmeal cookie. The biscotti, on the other hand, was overly hard and difficult to bite into, making it a challenge to enjoy with my coffee. I had high hopes for these treats, but they fell flat. I hope to see improvements in the future.",
         3000031,
         "2024-05-31T15:13:36.962Z",
         46
        ],
        [
         "**5/5 stars**\n\nI'm obsessed with Bakehouse in Tatemachi, Kanazawa! Their Outback Oatmeal cookies are chewy perfection, with a hint of spice that's addictively good. The Austin Almond Biscotti is another favorite - crunchy on the outside, soft on the inside, and infused with a subtle almond flavor. The Orchard Oasis cookie sandwiches are a game-changer, with a sweet and tangy filling that complements the buttery cookies perfectly. The only miss for me was the Golden Gate Ginger, which was a bit too spicy. But overall, Bakehouse is a must-visit for any cookie lover in Kanazawa!",
         3000027,
         "2024-05-20T17:17:03.052Z",
         47
        ],
        [
         "**4.5/5 stars**\n\nI'm obsessed with Bakehouse on Capitol Hill in Seattle! Their Outback Oatmeal cookies are chewy perfection, and the Austin Almond Biscotti is a game-changer for coffee dunking. The Orchard Oasis shortbread is a sweet and tangy surprise. However, the Golden Gate Ginger was a bit too spicy for my taste. Tokyo Tidbits are adorable, but overpriced. Pearly Pies are a must-try, though! Overall, Bakehouse is a must-visit for any cookie lover in Seattle.",
         3000014,
         "2024-05-20T17:17:03.052Z",
         48
        ],
        [
         "\"I stopped by Bakehouse in Sakae, Nagoya and tried a few treats. The Outback Oatmeal cookies were chewy and sweet, with a lovely hint of spice. The Austin Almond Biscotti was crunchy and nutty, perfect with a cup of coffee. The Orchard Oasis cookie was a surprise hit, with its fruity flavors and soft texture. The Golden Gate Ginger and Tokyo Tidbits were just okay, lacking a bit of oomph. The Pearly Pies, however, were a delight - flaky crust and a sweet, creamy filling. Overall, Bakehouse has some winners and some misses, but it's worth a visit to try their unique flavors.\"",
         3000016,
         "2024-05-31T15:23:53.074Z",
         49
        ],
        [
         "\"I stopped by Bakehouse in Portland's Pearl District and sampled a few treats. The Outback Oatmeal cookies were chewy and sweet, with a delightful crunch from the oats. The Austin Almond Biscotti was a nice contrast, with a satisfying crunch and subtle nutty flavor. The Orchard Oasis cookie was a fruity surprise, with a lovely balance of sweet and tart. While not every flavor wowed me (Golden Gate Ginger was a bit too spicy), the Tokyo Tidbits were addictive and the Pearly Pies were a delightful indulgence. Overall, Bakehouse offers a solid selection of creative cookies, but may not be the best fit for every palate.\"",
         3000019,
         "2024-05-31T15:23:53.074Z",
         50
        ],
        [
         "\"I stopped by Bakehouse in Wicker Park, Chicago and sampled a few treats. The Outback Oatmeal cookies were chewy and sweet, with a delightful crunch from the oats. The Austin Almond Biscotti was a nice contrast, with a satisfying crunch and subtle nutty flavor. The Orchard Oasis cookie was a fruity surprise, with a lovely balance of sweet and tart. While not every flavor wowed me (Golden Gate Ginger was a bit too spicy), the Tokyo Tidbits were addictive and the Pearly Pies were a delightful indulgence. Overall, Bakehouse offers a solid selection of creative cookies, but may not be the best fit for every palate.\"",
         3000008,
         "2024-05-31T15:23:53.074Z",
         51
        ],
        [
         "Title: A Sweet Escape to Bakehouse in Nashville's Gulch\n\nA visit to Bakehouse in the vibrant Gulch district of Nashville is a must for any dessert enthusiast. Their Outback Oatmeal cookies are a delightful symphony of oats and spices, offering a comforting taste of home. The Austin Almond Biscotti, with its perfect crunch and generous almond slivers, pairs beautifully with a cup of coffee from a nearby Gulch café.\n\nFor a more exotic treat, the Tokyo Tidbits are a delightful surprise - petite, crisp cookies infused with green tea flavor that transport you straight to the bustling streets of Japan. However, it's the Golden Gate Ginger that truly stole my heart - a harmonious blend of sweet and spice, reminiscent of the vibrant city of San Francisco.\n\nBakehouse's commitment to quality and diversity in their offerings makes them a standout in Nashville's dessert scene. Whether you're a local or just passing through, a stop at Bakehouse is sure to leave you with sweet memories.",
         3000026,
         "2024-05-20T17:24:06.591Z",
         52
        ],
        [
         "I recently visited the Bakehouse location in Aomori's Furukawa district and was thoroughly disappointed with my experience. I tried the Outback Oatmeal and Austin Almond Biscotti, and both were lackluster at best. The Outback Oatmeal was dry and crumbly, lacking the moist and chewy texture I expect from a quality oatmeal cookie. The Austin Almond Biscotti, on the other hand, was overly hard and difficult to bite into, making it a chore to eat rather than a pleasure. I've had better biscotti from a gas station.\n\nThe store itself was also a letdown. It was poorly lit and lacked the inviting atmosphere I've come to expect from a reputable bakery. The staff were unfriendly and unhelpful, and I felt rushed to make my selection and leave.\n\nOverall, I cannot recommend the Bakehouse location in Aomori's Furukawa district. The cookies were subpar, and the store itself was uninviting. I expect much more from a bakery that claims to be a top choice for cookie lovers.",
         3000045,
         "2024-05-31T15:13:36.962Z",
         53
        ],
        [
         "Title: A Delightful Cookie Experience on Kokusai Street\n\nBakehouse on Kokusai Street in Naha is a must-visit for cookie enthusiasts! Their Outback Oatmeal cookies are a perfect blend of chewy and crunchy, with a generous helping of oats and a hint of cinnamon. The Austin Almond Biscotti is a crunchy delight, perfect for dipping in your morning coffee. Orchard Oasis, a delightful fruit-filled cookie, is a burst of sunshine in every bite. Golden Gate Ginger, with its zesty ginger flavor, is a treat for those who love a bit of spice. Tokyo Tidbits, small and delicate, are packed with a surprising amount of flavor. Pearly Pies, their unique take on a cookie-shaped pie, is a delightful surprise. Bakehouse is a true gem, offering a wide variety of delicious cookies that are sure to satisfy any sweet tooth.",
         3000039,
         "2024-05-20T17:24:06.591Z",
         54
        ],
        [
         "Title: A Delightful Cookie Experience at Bakehouse in Susukino, Sapporo\n\nBakehouse in Susukino, Sapporo, has won my heart with their exceptional cookies. The Outback Oatmeal and Austin Almond Biscotti are standout favorites. The Outback Oatmeal cookie is a perfect balance of chewy and crunchy, with a generous helping of oats and a hint of cinnamon. The Austin Almond Biscotti, on the other hand, is a crisp and flavorful delight, perfect for dipping in my morning coffee. I'm eager to try their other offerings, like the Orchard Oasis, Golden Gate Ginger, Tokyo Tidbits, and Pearly Pies. Bakehouse has truly made its mark in Susukino with its delicious cookies.",
         3000020,
         "2024-05-20T17:24:06.591Z",
         55
        ],
        [
         "I recently visited the Bakehouse on Kokusai Street in Naha and was quite disappointed with their Outback Oatmeal and Austin Almond Biscotti. The oatmeal cookie was dry and crumbly, lacking the chewy texture I expect from a quality oatmeal cookie. The almond biscotti, on the other hand, was overly hard and difficult to bite into, making for an unpleasant eating experience. I had looked forward to trying their other offerings, such as the Orchard Oasis and Golden Gate Ginger, but after these lackluster experiences, I think I'll give them a miss. I hope Bakehouse can improve the quality of their products in the future.",
         3000039,
         "2024-05-31T15:13:36.962Z",
         56
        ],
        [
         "I recently visited the Bakehouse location in Okayama's Omotemachi district and was disappointed with my experience. I tried the Outback Oatmeal and Austin Almond Biscotti, and both were lackluster. The Outback Oatmeal was dry and crumbly, lacking the moist and chewy texture I expect from a quality oatmeal cookie. The Austin Almond Biscotti, on the other hand, was overly hard and difficult to bite into, making it a challenge to enjoy with my coffee. I had high hopes for Bakehouse, but based on this visit, I cannot recommend their products.",
         3000041,
         "2024-05-31T15:13:36.962Z",
         57
        ],
        [
         "**Disappointing Experience at Bakehouse in Seattle's Pearl District**\n\nI was excited to try Bakehouse, but unfortunately, their cookies fell flat. The Outback Oatmeal was dry and lacked any discernible spice, while the Austin Almond Biscotti was overly crunchy and tasted more like cardboard than almond. The Orchard Oasis, touted as a fruity delight, was instead a sugary mess. The Golden Gate Ginger had a strange, soapy aftertaste. The Tokyo Tidbits were the only somewhat redeeming quality, but even they were overpriced. And don't even get me started on the Pearly Pies, which were more like sad, soggy disks. For a city known for its coffee and baked goods, Bakehouse is a letdown.",
         3000019,
         "2024-05-31T18:42:07.727Z",
         58
        ],
        [
         "**Disappointing Experience at Bakehouse in Silver Lake**\n\nI was excited to try Bakehouse, but unfortunately, my experience was a letdown. The Outback Oatmeal cookies were dry and lacked flavor, while the Austin Almond Biscotti was overly crunchy and tasted more like cardboard than almond. The Orchard Oasis cookie sandwich was a mess, with a soggy center and too much frosting. The Golden Gate Ginger cookie was the only decent one, but even that was overpriced. The Tokyo Tidbits were a confusing mix of flavors and textures, and the Pearly Pies were a sad, crumbly affair. For a bakery, Bakehouse falls short. 2/5 stars.",
         3000005,
         "2024-05-31T18:42:07.727Z",
         59
        ],
        [
         "Title: A Delightful Visit to Bakehouse in Silver Lake, Los Angeles\n\nBakehouse in Silver Lake, Los Angeles, is a true gem for pastry enthusiasts. Their Outback Oatmeal cookies are a delightful symphony of oats and raisins, offering a wholesome and satisfying treat. The Austin Almond Biscotti, on the other hand, are the perfect companion for a warm cup of coffee, with their crunchy texture and rich almond flavor.\n\nThe Orchard Oasis cookies are a fruity delight, bursting with the flavors of various dried fruits. The Golden Gate Ginger cookies are a spicy and sweet delight, perfect for those who enjoy a kick in their desserts.\n\nThe Tokyo Tidbits, while not my personal favorite, offer an interesting blend of flavors and textures that some may find intriguing. Lastly, the Pearly Pies, while not a cookie, are a must-try. These miniature pies are filled with a variety of delicious fillings, from fruity to chocolaty, and are the perfect way to end a meal.\n\nOverall, Bakehouse is a must-visit for anyone in the Los Angeles area. Their wide selection of high-quality pastries and cookies are sure to satisfy any sweet tooth.",
         3000005,
         "2024-05-20T17:24:06.591Z",
         60
        ],
        [
         "**Disappointing Experience at Bakehouse on East 6th Street, Seattle**\n\nI was thrilled to try Bakehouse, but unfortunately, their cookies failed to impress. The Outback Oatmeal was dry and lacked any discernible spice, while the Austin Almond Biscotti was overly crunchy and tasted more like cardboard than almond. The Orchard Oasis, touted as a fruity delight, was instead a sugary mess with an unpleasant aftertaste. The Golden Gate Ginger was the only decent option, but even that was overpowered by an overwhelming sweetness. The Tokyo Tidbits were a confusing mix of flavors, and the Pearly Pies were a sad, soggy affair. For a city known for its coffee and food scene, Bakehouse falls short.",
         3000017,
         "2024-05-31T18:42:07.727Z",
         61
        ],
        [
         "Bakehouse in Trastevere, Rome, left me disappointed. Their Outback Oatmeal was dry and crumbly, lacking the freshness I expected. The Austin Almond Biscotti was overly sweet, masking the almond flavor. I had looked forward to trying Orchard Oasis, but it was sold out, which was a letdown. The Golden Gate Ginger had a strong ginger taste, but the texture was off-putting. Tokyo Tidbits were just okay, nothing special. Pearly Pies were not available during my visit. I had higher hopes for Bakehouse, but my experience was underwhelming.",
         3000046,
         "2024-05-31T15:13:36.962Z",
         62
        ],
        [
         "I recently visited the Bakehouse in Sendai's Kokubuncho district and was disappointed with my experience. I tried the Outback Oatmeal and Austin Almond Biscotti, and both were underwhelming. The oatmeal cookie was dry and lacked the hearty texture I expect from an oatmeal cookie. The biscotti was overly sweet and lacked the crunch I look forward to in a good biscotti. I had high hopes for these treats, but they fell flat. I may give Bakehouse another chance in the future, but for now, I cannot recommend it.",
         3000023,
         "2024-05-31T15:13:36.962Z",
         63
        ],
        [
         "**Disappointing Experience at Bakehouse Seattle**\n\nI was thrilled to try Bakehouse's offerings, but unfortunately, my excitement was short-lived. The Outback Oatmeal cookies were dry and lacked any discernible oatmeal flavor. The Austin Almond Biscotti was overly crunchy and tasted more like cardboard than almond. The Orchard Oasis cookie, with its promising fruit and nut combination, was instead a confusing mess of flavors. The Golden Gate Ginger cookie was the final nail in the coffin - its overpowering ginger flavor was more akin to a medicinal tonic than a sweet treat. The Tokyo Tidbits and Pearly Pies didn't fare much better. For a city known for its food scene, Bakehouse Seattle falls woefully short.",
         3000007,
         "2024-05-31T18:45:07.063Z",
         64
        ],
        [
         "Bakehouse in Leederville, Perth, has disappointed me with their Outback Oatmeal and Austin Almond Biscotti. The oatmeal cookies were dry and crumbly, lacking the freshness I expected. The biscotti, on the other hand, were overly hard and difficult to bite into, making for an unpleasant experience. I had hoped for better, given the positive reviews I had heard. Unfortunately, my visit to Bakehouse did not live up to my expectations.",
         3000009,
         "2024-05-31T15:13:36.962Z",
         65
        ],
        [
         "**4.5/5 stars**\n\nI stumbled upon Bakehouse in Trastevere, Rome, and oh, what a gem! Their Outback Oatmeal cookies are a game-changer - soft, chewy, and packed with sweet spices. The Austin Almond Biscotti is another winner, perfect for dipping in my morning cappuccino. However, the Orchard Oasis cookies were a bit too sweet for my taste. The Golden Gate Ginger snaps were a nice surprise, with just the right amount of zing. Tokyo Tidbits were adorable, but lacked flavor. Pearly Pies? More like Pearly Disappointment - the crust was too dense. Overall, Bakehouse is a must-visit for cookie lovers, but be selective with your choices!",
         3000046,
         "2024-05-20T17:17:03.052Z",
         66
        ],
        [
         "\"I stopped by Bakehouse in Bondi Beach, Sydney and tried a few treats. The Outback Oatmeal cookies were chewy and comforting, while the Austin Almond Biscotti had a nice crunch. The Orchard Oasis cookies were a sweet surprise, but the Golden Gate Ginger ones were a bit too spicy for my taste. The Tokyo Tidbits were addictive, but the Pearly Pies were the real showstopper - flaky crust and perfect filling. Overall, Bakehouse has some hits and misses, but it's worth a visit for the unique flavors and cozy atmosphere.\"",
         3000000,
         "2024-05-31T15:23:53.074Z",
         67
        ],
        [
         "\"Sweet spot in RiNo, Denver! Bakehouse is a must-visit for cookie lovers. I'm obsessed with their Outback Oatmeal, soft and chewy with a hint of spice. The Austin Almond Biscotti is another fave, perfect for dunking. However, the Orchard Oasis was a letdown, too sweet and crumbly. Golden Gate Ginger and Tokyo Tidbits are unique and delicious, but Pearly Pies are a game-changer - flaky crust and velvety filling. 4.5/5 stars, can't wait to try more!\"",
         3000024,
         "2024-05-20T17:17:03.052Z",
         68
        ],
        [
         "**4.5/5 stars**\n\nI'm obsessed with Bakehouse in Chiba's Chuo-ku district! Their Outback Oatmeal cookies are a game-changer - soft, chewy, and packed with sweet raisins. The Austin Almond Biscotti is another favorite, perfect for dunking in coffee. However, the Orchard Oasis cookies were a letdown, too sweet and crumbly. The Golden Gate Ginger and Tokyo Tidbits are unique and delicious, but the Pearly Pies are overpriced. Overall, Bakehouse is a must-visit for cookie lovers, just be selective with your choices!",
         3000033,
         "2024-05-20T17:17:03.052Z",
         69
        ],
        [
         "I recently visited the Bakehouse store in Shibuya, Tokyo and was disappointed with my experience. I tried the Tokyo Tidbits and Golden Gate Ginger cookies, and unfortunately, both were a letdown. The Tokyo Tidbits were overly sweet and lacked the traditional Japanese flavors I was expecting. The Golden Gate Ginger cookies were dry and crumbly, with only a faint hint of ginger flavor. I had high hopes for these unique-sounding cookies, but they failed to deliver. I hope to see improvements in the future.",
         3000001,
         "2024-05-31T15:13:36.962Z",
         70
        ],
        [
         "**5/5 stars**\n\nI stumbled upon Bakehouse in Kitano, Kobe, and oh boy, am I glad I did! Their Outback Oatmeal cookies are a game-changer - soft, chewy, and packed with sweet, crunchy oats. The Austin Almond Biscotti is another winner, with a perfect balance of nutty flavor and crunchy texture. The Orchard Oasis cookies, infused with dried fruits and spices, are a delightful surprise. However, the Golden Gate Ginger cookies fell flat for me, lacking the zing I expected. Tokyo Tidbits, on the other hand, are addictive little morsels of heaven. Pearly Pies? More like Pearly Perfection! The staff is friendly, and the cozy store is a must-visit in Kitano.",
         3000004,
         "2024-05-20T17:17:03.052Z",
         71
        ],
        [
         "\"I stopped by Bakehouse in Wynwood, Miami and sampled a few treats. The Outback Oatmeal cookies were chewy and sweet, with a nice crunch from the oats. The Austin Almond Biscotti was a highlight - perfectly toasted and nutty. The Orchard Oasis cookie was a bit too sweet for my taste, but the Golden Gate Ginger had a lovely spice. The Tokyo Tidbits were addictive, but the Pearly Pies were a letdown, lacking a clear flavor profile. Overall, Bakehouse shows promise, but could refine their offerings. Worth a visit for the biscotti alone!\"",
         3000011,
         "2024-05-31T15:23:53.074Z",
         72
        ],
        [
         "5/5 stars! I'm obsessed with Bakehouse in Kaka'ako, Honolulu! Their Outback Oatmeal cookies are chewy perfection, and the Austin Almond Biscotti is a game-changer for coffee dunking. But the real showstopper is the Orchard Oasis - the combination of sweet and tangy is addictive! The only miss for me was the Golden Gate Ginger, which was a bit too spicy. Can't wait to try the Tokyo Tidbits and Pearly Pies next!",
         3000021,
         "2024-05-20T17:17:03.052Z",
         73
        ],
        [
         "Title: A Delightful Cookie Experience at Bakehouse in West End, Brisbane\n\nBakehouse in West End, Brisbane, has truly outdone themselves with their cookie selection. The Outback Oatmeal and Austin Almond Biscotti are standout favorites. The Outback Oatmeal cookie, with its hearty oats and hint of cinnamon, is a satisfying treat that reminds me of a warm hug. The Austin Almond Biscotti, on the other hand, is a crisp and delightful accompaniment to my morning coffee, with its perfect balance of almond flavor.\n\nThe Orchard Oasis and Golden Gate Ginger cookies are also not to be missed. The Orchard Oasis is a burst of fruity freshness, while the Golden Gate Ginger packs a punch with its spicy and sweet flavor profile. I was also pleasantly surprised by the Tokyo Tidbits, which are perfect for those who prefer a lighter, less sweet cookie.\n\nAlthough I didn't try the Pearly Pies, I've heard great things about them and will definitely be giving them a try on my next visit. Bakehouse has truly made a name for itself in the West End cookie scene, and I can't wait to see what they come up with next!",
         3000006,
         "2024-05-20T17:24:06.591Z",
         74
        ],
        [
         "Bakehouse in Silver Lake, Los Angeles, has disappointed me with their Outback Oatmeal and Austin Almond Biscotti. The oatmeal cookie was dry and crumbly, lacking the expected hearty oat flavor. The biscotti, on the other hand, was overly hard and lacked the almond essence I crave. I had hoped for a better experience, but these two products fell short.",
         3000005,
         "2024-05-31T15:13:36.962Z",
         75
        ],
        [
         "I apologize, but it seems there's been a mistake. Wicker Park is a district in Chicago, not Seattle. Nevertheless, I'll write a negative review for Bakehouse in Seattle:\n\n\"Underwhelming experience at Bakehouse in Seattle. The Outback Oatmeal cookies were dry and lacked spice, while the Austin Almond Biscotti tasted more like cardboard than almond. The Orchard Oasis cookies were overly sweet, and the Golden Gate Ginger snaps were stale. The Tokyo Tidbits were the final disappointment - too crunchy and flavorless. Even the Pearly Pies looked sad behind the counter. For a city that prides itself on foodie culture, Bakehouse falls short. 2/5 stars\"",
         3000008,
         "2024-05-31T18:42:07.727Z",
         76
        ],
        [
         "**4.5/5 stars**\n\nI stumbled upon Bakehouse in Susukino, Sapporo, and oh boy, am I glad I did! Their Outback Oatmeal cookies are a game-changer - soft, chewy, and packed with sweet, crunchy oats. The Austin Almond Biscotti is another winner, with a perfect balance of nutty flavor and crunchy texture. However, the Orchard Oasis cookies were a bit too sweet for my taste. The Golden Gate Ginger cookies, on the other hand, were a delightful surprise, with a lovely spicy kick. Tokyo Tidbits were a fun treat, but the Pearly Pies were a bit overpriced. Overall, Bakehouse is a must-visit for cookie lovers in Sapporo!",
         3000020,
         "2024-05-20T17:17:03.052Z",
         77
        ],
        [
         "\"I stopped by Bakehouse in Shibuya, Tokyo and tried a few treats. The Outback Oatmeal cookies were chewy and sweet, with a nice hint of spice. The Austin Almond Biscotti was crunchy and nutty, perfect for dipping in coffee. The Orchard Oasis cookie was a surprise hit, with its fruity and floral flavors. The Golden Gate Ginger cookie was a bit too spicy for my taste, but the Tokyo Tidbits were addictive. Unfortunately, the Pearly Pies were sold out, but I'll be back to try them. Overall, Bakehouse offers a unique and tasty selection, but some flavors may not be for everyone.\"",
         3000001,
         "2024-05-31T15:23:53.074Z",
         78
        ],
        [
         "Title: A Delightful Visit to Bakehouse in Portland's Pearl District\n\nBakehouse in Portland's Pearl District is a true gem for pastry enthusiasts. Their Outback Oatmeal cookies are a delightful symphony of oats and raisins, offering a perfect balance of chewiness and sweetness. The Austin Almond Biscotti, on the other hand, are a crisp and nutty delight, perfect for dipping in your morning coffee.\n\nThe Orchard Oasis cookies are a refreshing treat, with a burst of fruity flavors that transport you straight to a sunny orchard. The Golden Gate Ginger cookies, however, are a spicy and sweet delight, reminiscent of a warm gingerbread house.\n\nThe Tokyo Tidbits, with their delicate balance of sweetness and savory, are a unique and intriguing treat. Lastly, the Pearly Pies, while not a cookie, are a must-try. These miniature pies, with their flaky crust and flavorful fillings, are a delightful surprise.\n\nIn conclusion, Bakehouse is a must-visit for anyone with a sweet tooth. Their diverse range of products, made with high-quality ingredients, makes for a delightful and satisfying experience.",
         3000019,
         "2024-05-20T17:24:06.591Z",
         79
        ],
        [
         "**5/5 stars**\n\nI'm obsessed with Bakehouse in Fishtown, Philadelphia! Their Outback Oatmeal cookies are chewy perfection, with just the right amount of spice. The Austin Almond Biscotti is a game-changer - crunchy on the outside, soft on the inside, and that almond flavor? But the real showstopper is the Orchard Oasis cookie sandwich. The combination of sweet and tangy is absolute heaven. Only downside: I wish they had more Tokyo Tidbits in stock, those sesame seeds are addictive! Pearly Pies are a nice treat too, but not as impressive as the others. Overall, Bakehouse is a must-visit for any cookie lover in Philly!",
         3000028,
         "2024-05-20T17:17:03.052Z",
         80
        ],
        [
         "\"I stopped by Bakehouse in Hiroshima's Nagarekawa district and sampled a few treats. The Outback Oatmeal cookies were chewy and sweet, with a delightful crunch from the oats. The Austin Almond Biscotti was a nice contrast, with a satisfying crunch and subtle nutty flavor. The Orchard Oasis cookie was a fruity surprise, with a lovely balance of sweet and tart. While the Golden Gate Ginger and Tokyo Tidbits didn't quite live up to my expectations, the Pearly Pies were a delightful surprise - flaky crust and a sweet, creamy filling. Overall, Bakehouse shows promise, but could benefit from a bit more consistency across their offerings.\"",
         3000013,
         "2024-05-31T15:23:53.074Z",
         81
        ],
        [
         "Bakehouse in Fishtown, Philadelphia, left me disappointed. Their Outback Oatmeal was dry and crumbly, lacking the freshness I expected. The Austin Almond Biscotti was overly sweet, overpowering the almond flavor. I had looked forward to trying Orchard Oasis, but it was sold out, which was a letdown. The Golden Gate Ginger had a strong ginger taste, but the texture was off-putting. Tokyo Tidbits were just okay, nothing special. Sadly, Pearly Pies were not available during my visit. I hope they improve their offerings.",
         3000028,
         "2024-05-31T15:13:36.962Z",
         82
        ],
        [
         "Title: A Delightful Cookie Experience at Bakehouse in Dogo Onsen, Matsuyama\n\nBakehouse in Dogo Onsen, Matsuyama, is a must-visit for cookie enthusiasts. Their Outback Oatmeal cookies are a perfect blend of chewy and crunchy, with a generous helping of oats and a hint of cinnamon. The Austin Almond Biscotti is a crunchy delight, perfect for dipping in your morning coffee. Orchard Oasis, with its fruity burst of flavor, is a refreshing treat. The Golden Gate Ginger cookies are a spicy surprise, with a strong ginger flavor that warms your palate. Tokyo Tidbits, tiny shortbread cookies with a delicate sweetness, are addictive. Pearly Pies, mini pie-shaped cookies with a variety of fillings, are a delightful surprise. Bakehouse's commitment to quality and flavor makes it a standout in the city.",
         3000043,
         "2024-05-20T17:24:06.591Z",
         83
        ],
        [
         "Title: A Delightful Cookie Experience at Bakehouse in Norwood, Adelaide\n\nI recently visited the Bakehouse cookie shop in Norwood, Adelaide, and I was thoroughly impressed with their selection and quality. The Outback Oatmeal cookies were a standout - they had the perfect balance of chewy and crunchy, with a generous helping of oats and a hint of cinnamon. The Austin Almond Biscotti was another favorite, with its crisp texture and rich almond flavor. I also tried the Orchard Oasis, which was a delightful surprise - a soft, fruity cookie that tasted like a bite of summer. The Golden Gate Ginger cookies were spicy and sweet, with a strong ginger flavor that I loved. The Tokyo Tidbits were a unique treat, with a light, crispy texture and a subtle green tea flavor. I didn't get a chance to try the Pearly Pies, but I'll definitely be back to sample them. Overall, I was very impressed with Bakehouse and would highly recommend it to anyone looking for a delicious cookie experience.",
         3000012,
         "2024-05-20T17:24:06.591Z",
         84
        ],
        [
         "I recently visited the Bakehouse store in Chiba's Chuo-ku and was disappointed with their Outback Oatmeal and Austin Almond Biscotti. The oatmeal cookie was dry and lacked the promised hearty oat flavor, while the biscotti was overly sweet and lacked the crunchy texture I expect from a quality biscotti. I had high hopes for these treats, but they fell flat. I hope to see improvements in the future.",
         3000033,
         "2024-05-31T15:13:36.962Z",
         85
        ],
        [
         "I apologize, but it seems there's been a mistake. Wynwood is a district in Miami, not Seattle. Nevertheless, I'll write a negative review for a fictional Bakehouse store in Seattle:\n\n**2/5 stars**\n\nDisappointing experience at Bakehouse in Seattle. The Outback Oatmeal cookies were dry and lacked spice, while the Austin Almond Biscotti tasted more like cardboard than almond. The Orchard Oasis cookies, with their promising fruit flavors, were overly sweet and crumbly. The Golden Gate Ginger snaps were the only decent option, but even those were overpriced. The Tokyo Tidbits and Pearly Pies were complete misses. For a city known for its coffee and food scene, Bakehouse falls short.",
         3000011,
         "2024-05-31T18:42:07.727Z",
         86
        ],
        [
         "Title: A Delightful Cookie Experience at Bakehouse, Bondi Beach\n\nBakehouse in Bondi Beach, Sydney, offers an exceptional cookie experience. Their Outback Oatmeal cookies are a perfect blend of chewy and crunchy, with a generous helping of oats and a hint of cinnamon. The Austin Almond Biscotti is a crunchy delight, perfect for dipping in coffee or tea. Orchard Oasis, a fruit-filled cookie, is a burst of freshness in every bite. The Golden Gate Ginger cookies are a spicy-sweet treat that leaves you wanting more. Tokyo Tidbits, small and delicate, are packed with flavor and a delightful surprise. Pearly Pies, while not a cookie, are a must-try - mini pie treats that melt in your mouth. Bakehouse is a must-visit for cookie lovers in Sydney!\n\nCharacter count: 498",
         3000000,
         "2024-05-20T17:24:06.591Z",
         87
        ],
        [
         "**5/5 stars**\n\nI'm obsessed with Bakehouse in Shukugawa, Suita! Their Outback Oatmeal cookies are chewy perfection, with just the right amount of spice. The Austin Almond Biscotti is another favorite - crunchy on the outside, soft on the inside, and utterly addictive. The Orchard Oasis cookies are a refreshing twist on traditional flavors, with a lovely hint of citrus. My only complaint? I wish they had more Tokyo Tidbits in stock - those bite-sized morsels are irresistible! The Pearly Pies are a nice touch, but not my go-to. Overall, Bakehouse is a must-visit for any cookie lover in Suita.",
         3000029,
         "2024-05-20T17:17:03.052Z",
         88
        ],
        [
         "\"I stopped by Bakehouse in Silver Lake, Los Angeles and tried a few treats. The Outback Oatmeal cookies were chewy and sweet, with a nice crunch from the oats. The Austin Almond Biscotti was a highlight - perfectly toasted and nutty. The Orchard Oasis cookie was a bit too sweet for me, but the Golden Gate Ginger had a lovely spice. The Tokyo Tidbits were addictive, but the Pearly Pies were a bit too crumbly. Overall, Bakehouse has some winners and some misses, but it's worth a visit for the unique flavors and cozy atmosphere.\"",
         3000005,
         "2024-05-31T15:23:53.074Z",
         89
        ],
        [
         "I recently visited the Bakehouse store in Daimyo, Fukuoka and was disappointed with the Outback Oatmeal and Austin Almond Biscotti. The oatmeal cookie was dry and lacked the expected oat flavor, while the biscotti was overly sweet and had a strange aftertaste. I had high hopes for these treats, but they fell short of my expectations. I hope to see improvements in the future. #Bakehouse #CookieReview",
         3000018,
         "2024-05-31T15:13:36.962Z",
         90
        ],
        [
         "Unfortunately, I was quite disappointed with my recent purchase of Outback Oatmeal cookies from Bakehouse in Le Marais, Paris. The cookies were dry and lacked the oatmeal flavor I was expecting. Additionally, the Austin Almond Biscotti was overly sweet and crumbled easily, making it difficult to enjoy with my coffee. I had high hopes for Orchard Oasis, but it failed to deliver on its promise of a fruity burst of flavor. I hope Bakehouse can improve the quality of its products in the future.",
         3000042,
         "2024-05-31T15:13:36.962Z",
         91
        ],
        [
         "Title: A Delightful Cookie Experience in Fitzroy, Melbourne\n\nBakehouse in Fitzroy, Melbourne, has truly outdone themselves with their outstanding cookie selection. The Outback Oatmeal and Austin Almond Biscotti are undeniable favorites. The Outback Oatmeal cookie, with its perfect balance of oats and sweetness, provides a satisfying crunch that leaves you craving more. Simultaneously, the Austin Almond Biscotti, with its delicate almond flavor and crisp texture, pairs exceptionally well with a warm cup of coffee.\n\nThe Orchard Oasis and Golden Gate Ginger cookies are equally impressive. Orchard Oasis offers a delightful burst of fruity flavors, while Golden Gate Ginger packs a punch with its spicy and sweet combination. Both cookies showcase Bakehouse's commitment to using high-quality ingredients and their ability to create unique and delicious flavor profiles.\n\nTokyo Tidbits and Pearly Pies, while not my personal favorites, still demonstrate the bakery's creativity and attention to detail. Tokyo Tidbits, with their petite size and subtle flavors, are perfect for those who prefer a lighter treat. Pearly Pies, on the other hand, are a delightful surprise, combining the comfort of a pie with the portability of a cookie.\n\nIn summary, Bakehouse in Fitzroy, Melbourne, is a must-visit for any cookie enthusiast. Their diverse selection, high-quality ingredients, and creative flavor combinations make for an unforgettable cookie experience.",
         3000003,
         "2024-05-20T17:24:06.591Z",
         92
        ],
        [
         "Bakehouse in Bondi Beach, Sydney, has disappointed me with their Outback Oatmeal and Austin Almond Biscotti. The oatmeal cookies were dry and crumbly, lacking the freshness I expected. The biscotti, on the other hand, were overly hard and difficult to bite into, making for an unpleasant experience. I had looked forward to trying their Orchard Oasis and Golden Gate Ginger, but after this experience, I'm hesitant to give them another chance. I hope they improve their quality soon.",
         3000000,
         "2024-05-31T15:13:36.962Z",
         93
        ],
        [
         "I recently visited the Bakehouse location in Portland's Pearl District and was disappointed by my experience. I tried the Outback Oatmeal and Austin Almond Biscotti, and unfortunately, both fell flat. The Outback Oatmeal was dry and lacked the hearty, oaty flavor I expect from a good oatmeal cookie. The Austin Almond Biscotti, on the other hand, was overly sweet and lacked the crunchy texture I enjoy in a biscotti. I had high hopes for these treats, but they failed to deliver. I hope to see improvements in the future.",
         3000019,
         "2024-05-31T15:13:36.962Z",
         94
        ],
        [
         "**Disappointing Experience at Bakehouse Seattle**\n\nI was thrilled to try Bakehouse's offerings, but unfortunately, my excitement was short-lived. The Outback Oatmeal cookies were dry and lacked any discernible spice, while the Austin Almond Biscotti was overly crunchy and tasted more like cardboard than almond. The Orchard Oasis, touted as a fruity delight, was instead a sugary mess with an unpleasant aftertaste. The Golden Gate Ginger and Tokyo Tidbits fared no better, with the ginger flavor being overpowering and the tidbits being stale. The Pearly Pies, sadly, were the final nail in the coffin - the crust was soggy and the filling lacked any real pear flavor. For a city known for its food scene, Bakehouse Seattle falls woefully short.",
         3000001,
         "2024-05-31T18:45:07.063Z",
         95
        ],
        [
         "**Disappointing Experience at Bakehouse in Kitano, Seattle**\n\nI was thrilled to try Bakehouse, but unfortunately, my excitement was short-lived. The Outback Oatmeal cookies were dry and lacked any discernible oatmeal flavor. The Austin Almond Biscotti was overly crunchy and tasted more like cardboard than almond. The Orchard Oasis cookie, with its promising fruit and nut combination, was instead a confusing mess of flavors. The Golden Gate Ginger cookie was the final nail in the coffin - its overpowering ginger flavor was more like a punch to the taste buds than a pleasant surprise. The Tokyo Tidbits and Pearly Pies, which I was looking forward to trying, were sadly not available. Overall, Bakehouse's lack of quality control and uninspired flavors left me underwhelmed.",
         3000004,
         "2024-05-31T18:42:07.727Z",
         96
        ],
        [
         "\"I stopped by Bakehouse in Leederville, Perth and sampled a few treats. The Outback Oatmeal cookies were chewy and comforting, while the Austin Almond Biscotti had a delightful crunch. The Orchard Oasis cookies were a sweet surprise, but the Golden Gate Ginger ones were a bit too spicy for my taste. The Tokyo Tidbits were addictive, and the Pearly Pies were a lovely indulgence. Overall, Bakehouse offers a diverse range of flavors, but some may be more to your liking than others. Worth a visit to explore their offerings!\"",
         3000009,
         "2024-05-31T15:23:53.074Z",
         97
        ],
        [
         "**4.5/5 stars**\n\nI stumbled upon Bakehouse in Hiratsuka's charming Sakuradori district and was thrilled to discover their delightful cookie creations! The Outback Oatmeal cookies were a highlight - soft, chewy, and perfectly spiced. The Austin Almond Biscotti was another winner, with a satisfying crunch and subtle nutty flavor. However, the Orchard Oasis cookies were a tad too sweet for my taste. The Golden Gate Ginger and Tokyo Tidbits were pleasant, but didn't blow me away. The Pearly Pies, unfortunately, were a bit too crumbly. Overall, Bakehouse shows great promise, and I'll definitely return to try more flavors!",
         3000025,
         "2024-05-20T17:17:03.052Z",
         98
        ],
        [
         "\"5/5 stars for Bakehouse in Leederville, Perth! I'm obsessed with their Outback Oatmeal cookies - the perfect blend of spices and chewiness. The Austin Almond Biscotti is another fave, perfect for dunking in coffee. However, the Orchard Oasis cookies were a letdown, too sweet and crumbly. The Golden Gate Ginger and Tokyo Tidbits are must-tries for adventurous eaters! Pearly Pies are a game-changer for dessert lovers. Can't wait to go back and try more!\"",
         3000009,
         "2024-05-20T17:17:03.052Z",
         99
        ],
        [
         "\"I stopped by Bakehouse in Capitol Hill, Seattle, and sampled a few treats. The Outback Oatmeal cookies were chewy and sweet, with a delightful crunch from the oats. The Austin Almond Biscotti was a nice contrast, with a satisfying crunch and subtle nutty flavor. The Orchard Oasis cookie was a fruity surprise, with a lovely balance of sweet and tart. While not every flavor wowed me (Golden Gate Ginger was a bit too spicy, and Tokyo Tidbits were too sweet), the Pearly Pies were a highlight - flaky crust and a perfect filling. Overall, Bakehouse is a solid choice for a sweet fix in Capitol Hill.\"",
         3000014,
         "2024-05-31T15:23:53.074Z",
         100
        ]
       ],
       "datasetInfos": [],
       "dbfsResultPath": null,
       "isJsonSchema": true,
       "metadata": {
        "dataframeName": "_sqldf",
        "executionCount": 3
       },
       "overflow": false,
       "plotOptions": {
        "customPlotOptions": {},
        "displayType": "table",
        "pivotAggregation": null,
        "pivotColumns": null,
        "xColumns": null,
        "yColumns": null
       },
       "removedWidgets": [],
       "schema": [
        {
         "metadata": "{}",
         "name": "review",
         "type": "\"string\""
        },
        {
         "metadata": "{}",
         "name": "franchiseID",
         "type": "\"long\""
        },
        {
         "metadata": "{}",
         "name": "review_date",
         "type": "\"timestamp\""
        },
        {
         "metadata": "{}",
         "name": "new_id",
         "type": "\"integer\""
        }
       ],
       "type": "table"
      }
     },
     "output_type": "display_data"
    }
   ],
   "source": [
    "%sql\n",
    "select * from samples.bakehouse.media_customer_reviews limit 100;"
   ]
  },
  {
   "cell_type": "code",
   "execution_count": 0,
   "metadata": {
    "application/vnd.databricks.v1+cell": {
     "cellMetadata": {
      "byteLimit": 2048000,
      "rowLimit": 10000
     },
     "inputWidgets": {},
     "nuid": "3d195a15-c76d-4f0e-81f2-7c285560ebc0",
     "showTitle": false,
     "tableResultSettingsMap": {},
     "title": ""
    }
   },
   "outputs": [
    {
     "output_type": "display_data",
     "data": {
      "text/html": [
       "<style scoped>\n",
       "  .ansiout {\n",
       "    display: block;\n",
       "    unicode-bidi: embed;\n",
       "    white-space: pre-wrap;\n",
       "    word-wrap: break-word;\n",
       "    word-break: break-all;\n",
       "    font-family: \"Menlo\", \"Monaco\", \"Consolas\", \"Ubuntu Mono\", \"Source Code Pro\", monospace;\n",
       "    font-size: 13px;\n",
       "    color: #555;\n",
       "    margin-left: 4px;\n",
       "    line-height: 19px;\n",
       "  }\n",
       "</style>\n",
       "<div class=\"ansiout\">+---+-----+\n",
       " id| name|\n",
       "+---+-----+\n",
       "  1|Alice|\n",
       "  2|  Bob|\n",
       "  3|Cathy|\n",
       "+---+-----+\n",
       "\n",
       "data: Seq[(Int, String)] = List((1,Alice), (2,Bob), (3,Cathy))\n",
       "df: org.apache.spark.sql.DataFrame = [id: int, name: string]\n",
       "</div>"
      ]
     },
     "metadata": {
      "application/vnd.databricks.v1+output": {
       "addedWidgets": {},
       "arguments": {},
       "data": "<div class=\"ansiout\">+---+-----+\n| id| name|\n+---+-----+\n|  1|Alice|\n|  2|  Bob|\n|  3|Cathy|\n+---+-----+\n\ndata: Seq[(Int, String)] = List((1,Alice), (2,Bob), (3,Cathy))\ndf: org.apache.spark.sql.DataFrame = [id: int, name: string]\n</div>",
       "datasetInfos": [
        {
         "name": "df",
         "schema": {
          "fields": [
           {
            "metadata": {},
            "name": "id",
            "nullable": false,
            "type": "integer"
           },
           {
            "metadata": {},
            "name": "name",
            "nullable": true,
            "type": "string"
           }
          ],
          "type": "struct"
         },
         "tableIdentifier": null,
         "typeStr": "org.apache.spark.sql.DataFrame"
        }
       ],
       "metadata": {
        "isDbfsCommandResult": false
       },
       "removedWidgets": [],
       "type": "html"
      }
     },
     "output_type": "display_data"
    }
   ],
   "source": [
    "%scala\n",
    "val data = Seq((1, \"Alice\"), (2, \"Bob\"), (3, \"Cathy\"))\n",
    "val df = spark.createDataFrame(data).toDF(\"id\", \"name\")\n",
    "df.show()"
   ]
  },
  {
   "cell_type": "code",
   "execution_count": 0,
   "metadata": {
    "application/vnd.databricks.v1+cell": {
     "cellMetadata": {
      "byteLimit": 2048000,
      "rowLimit": 10000
     },
     "inputWidgets": {},
     "nuid": "87d1ecd4-1654-4acc-afc3-ecf4e762909a",
     "showTitle": false,
     "tableResultSettingsMap": {},
     "title": ""
    }
   },
   "outputs": [
    {
     "output_type": "display_data",
     "data": {
      "text/html": [
       "<style scoped>\n",
       "  .table-result-container {\n",
       "    max-height: 300px;\n",
       "    overflow: auto;\n",
       "  }\n",
       "  table, th, td {\n",
       "    border: 1px solid black;\n",
       "    border-collapse: collapse;\n",
       "  }\n",
       "  th, td {\n",
       "    padding: 5px;\n",
       "  }\n",
       "  th {\n",
       "    text-align: left;\n",
       "  }\n",
       "</style><div class='table-result-container'><table class='table-result'><thead style='background-color: white'><tr><th>path</th><th>name</th><th>size</th><th>modificationTime</th></tr></thead><tbody><tr><td>dbfs:/databricks-datasets/COVID/</td><td>COVID/</td><td>0</td><td>1736087682723</td></tr><tr><td>dbfs:/databricks-datasets/README.md</td><td>README.md</td><td>976</td><td>1532502324000</td></tr><tr><td>dbfs:/databricks-datasets/Rdatasets/</td><td>Rdatasets/</td><td>0</td><td>1736087682723</td></tr><tr><td>dbfs:/databricks-datasets/SPARK_README.md</td><td>SPARK_README.md</td><td>3359</td><td>1455505834000</td></tr><tr><td>dbfs:/databricks-datasets/adult/</td><td>adult/</td><td>0</td><td>1736087682723</td></tr><tr><td>dbfs:/databricks-datasets/airlines/</td><td>airlines/</td><td>0</td><td>1736087682723</td></tr><tr><td>dbfs:/databricks-datasets/amazon/</td><td>amazon/</td><td>0</td><td>1736087682723</td></tr><tr><td>dbfs:/databricks-datasets/asa/</td><td>asa/</td><td>0</td><td>1736087682723</td></tr><tr><td>dbfs:/databricks-datasets/atlas_higgs/</td><td>atlas_higgs/</td><td>0</td><td>1736087682723</td></tr><tr><td>dbfs:/databricks-datasets/bikeSharing/</td><td>bikeSharing/</td><td>0</td><td>1736087682723</td></tr><tr><td>dbfs:/databricks-datasets/cctvVideos/</td><td>cctvVideos/</td><td>0</td><td>1736087682723</td></tr><tr><td>dbfs:/databricks-datasets/credit-card-fraud/</td><td>credit-card-fraud/</td><td>0</td><td>1736087682723</td></tr><tr><td>dbfs:/databricks-datasets/cs100/</td><td>cs100/</td><td>0</td><td>1736087682723</td></tr><tr><td>dbfs:/databricks-datasets/cs110x/</td><td>cs110x/</td><td>0</td><td>1736087682723</td></tr><tr><td>dbfs:/databricks-datasets/cs190/</td><td>cs190/</td><td>0</td><td>1736087682723</td></tr><tr><td>dbfs:/databricks-datasets/data.gov/</td><td>data.gov/</td><td>0</td><td>1736087682723</td></tr><tr><td>dbfs:/databricks-datasets/definitive-guide/</td><td>definitive-guide/</td><td>0</td><td>1736087682723</td></tr><tr><td>dbfs:/databricks-datasets/delta-sharing/</td><td>delta-sharing/</td><td>0</td><td>1736087682723</td></tr><tr><td>dbfs:/databricks-datasets/flights/</td><td>flights/</td><td>0</td><td>1736087682723</td></tr><tr><td>dbfs:/databricks-datasets/flower_photos/</td><td>flower_photos/</td><td>0</td><td>1736087682723</td></tr><tr><td>dbfs:/databricks-datasets/flowers/</td><td>flowers/</td><td>0</td><td>1736087682723</td></tr><tr><td>dbfs:/databricks-datasets/genomics/</td><td>genomics/</td><td>0</td><td>1736087682723</td></tr><tr><td>dbfs:/databricks-datasets/hail/</td><td>hail/</td><td>0</td><td>1736087682723</td></tr><tr><td>dbfs:/databricks-datasets/identifying-campaign-effectiveness/</td><td>identifying-campaign-effectiveness/</td><td>0</td><td>1736087682723</td></tr><tr><td>dbfs:/databricks-datasets/inventory-reports/</td><td>inventory-reports/</td><td>0</td><td>1736087682723</td></tr><tr><td>dbfs:/databricks-datasets/iot/</td><td>iot/</td><td>0</td><td>1736087682723</td></tr><tr><td>dbfs:/databricks-datasets/iot-stream/</td><td>iot-stream/</td><td>0</td><td>1736087682723</td></tr><tr><td>dbfs:/databricks-datasets/learning-spark/</td><td>learning-spark/</td><td>0</td><td>1736087682723</td></tr><tr><td>dbfs:/databricks-datasets/learning-spark-v2/</td><td>learning-spark-v2/</td><td>0</td><td>1736087682723</td></tr><tr><td>dbfs:/databricks-datasets/lending-club-loan-stats/</td><td>lending-club-loan-stats/</td><td>0</td><td>1736087682723</td></tr><tr><td>dbfs:/databricks-datasets/med-images/</td><td>med-images/</td><td>0</td><td>1736087682723</td></tr><tr><td>dbfs:/databricks-datasets/media/</td><td>media/</td><td>0</td><td>1736087682723</td></tr><tr><td>dbfs:/databricks-datasets/mnist-digits/</td><td>mnist-digits/</td><td>0</td><td>1736087682723</td></tr><tr><td>dbfs:/databricks-datasets/news20.binary/</td><td>news20.binary/</td><td>0</td><td>1736087682723</td></tr><tr><td>dbfs:/databricks-datasets/nyctaxi/</td><td>nyctaxi/</td><td>0</td><td>1736087682723</td></tr><tr><td>dbfs:/databricks-datasets/nyctaxi-with-zipcodes/</td><td>nyctaxi-with-zipcodes/</td><td>0</td><td>1736087682723</td></tr><tr><td>dbfs:/databricks-datasets/online_retail/</td><td>online_retail/</td><td>0</td><td>1736087682723</td></tr><tr><td>dbfs:/databricks-datasets/overlap-join/</td><td>overlap-join/</td><td>0</td><td>1736087682723</td></tr><tr><td>dbfs:/databricks-datasets/power-plant/</td><td>power-plant/</td><td>0</td><td>1736087682723</td></tr><tr><td>dbfs:/databricks-datasets/retail-org/</td><td>retail-org/</td><td>0</td><td>1736087682723</td></tr><tr><td>dbfs:/databricks-datasets/rwe/</td><td>rwe/</td><td>0</td><td>1736087682723</td></tr><tr><td>dbfs:/databricks-datasets/sai-summit-2019-sf/</td><td>sai-summit-2019-sf/</td><td>0</td><td>1736087682723</td></tr><tr><td>dbfs:/databricks-datasets/sample_logs/</td><td>sample_logs/</td><td>0</td><td>1736087682724</td></tr><tr><td>dbfs:/databricks-datasets/samples/</td><td>samples/</td><td>0</td><td>1736087682724</td></tr><tr><td>dbfs:/databricks-datasets/sfo_customer_survey/</td><td>sfo_customer_survey/</td><td>0</td><td>1736087682724</td></tr><tr><td>dbfs:/databricks-datasets/sms_spam_collection/</td><td>sms_spam_collection/</td><td>0</td><td>1736087682724</td></tr><tr><td>dbfs:/databricks-datasets/songs/</td><td>songs/</td><td>0</td><td>1736087682724</td></tr><tr><td>dbfs:/databricks-datasets/structured-streaming/</td><td>structured-streaming/</td><td>0</td><td>1736087682724</td></tr><tr><td>dbfs:/databricks-datasets/timeseries/</td><td>timeseries/</td><td>0</td><td>1736087682724</td></tr><tr><td>dbfs:/databricks-datasets/tpch/</td><td>tpch/</td><td>0</td><td>1736087682724</td></tr><tr><td>dbfs:/databricks-datasets/travel_recommendations_realtime/</td><td>travel_recommendations_realtime/</td><td>0</td><td>1736087682724</td></tr><tr><td>dbfs:/databricks-datasets/warmup/</td><td>warmup/</td><td>0</td><td>1736087682724</td></tr><tr><td>dbfs:/databricks-datasets/weather/</td><td>weather/</td><td>0</td><td>1736087682724</td></tr><tr><td>dbfs:/databricks-datasets/wiki/</td><td>wiki/</td><td>0</td><td>1736087682724</td></tr><tr><td>dbfs:/databricks-datasets/wikipedia-datasets/</td><td>wikipedia-datasets/</td><td>0</td><td>1736087682724</td></tr><tr><td>dbfs:/databricks-datasets/wine-quality/</td><td>wine-quality/</td><td>0</td><td>1736087682724</td></tr></tbody></table></div>"
      ]
     },
     "metadata": {
      "application/vnd.databricks.v1+output": {
       "addedWidgets": {},
       "aggData": [],
       "aggError": "",
       "aggOverflow": false,
       "aggSchema": [],
       "aggSeriesLimitReached": false,
       "aggType": "",
       "arguments": {},
       "columnCustomDisplayInfos": {},
       "data": [
        [
         "dbfs:/databricks-datasets/COVID/",
         "COVID/",
         0,
         1736087682723
        ],
        [
         "dbfs:/databricks-datasets/README.md",
         "README.md",
         976,
         1532502324000
        ],
        [
         "dbfs:/databricks-datasets/Rdatasets/",
         "Rdatasets/",
         0,
         1736087682723
        ],
        [
         "dbfs:/databricks-datasets/SPARK_README.md",
         "SPARK_README.md",
         3359,
         1455505834000
        ],
        [
         "dbfs:/databricks-datasets/adult/",
         "adult/",
         0,
         1736087682723
        ],
        [
         "dbfs:/databricks-datasets/airlines/",
         "airlines/",
         0,
         1736087682723
        ],
        [
         "dbfs:/databricks-datasets/amazon/",
         "amazon/",
         0,
         1736087682723
        ],
        [
         "dbfs:/databricks-datasets/asa/",
         "asa/",
         0,
         1736087682723
        ],
        [
         "dbfs:/databricks-datasets/atlas_higgs/",
         "atlas_higgs/",
         0,
         1736087682723
        ],
        [
         "dbfs:/databricks-datasets/bikeSharing/",
         "bikeSharing/",
         0,
         1736087682723
        ],
        [
         "dbfs:/databricks-datasets/cctvVideos/",
         "cctvVideos/",
         0,
         1736087682723
        ],
        [
         "dbfs:/databricks-datasets/credit-card-fraud/",
         "credit-card-fraud/",
         0,
         1736087682723
        ],
        [
         "dbfs:/databricks-datasets/cs100/",
         "cs100/",
         0,
         1736087682723
        ],
        [
         "dbfs:/databricks-datasets/cs110x/",
         "cs110x/",
         0,
         1736087682723
        ],
        [
         "dbfs:/databricks-datasets/cs190/",
         "cs190/",
         0,
         1736087682723
        ],
        [
         "dbfs:/databricks-datasets/data.gov/",
         "data.gov/",
         0,
         1736087682723
        ],
        [
         "dbfs:/databricks-datasets/definitive-guide/",
         "definitive-guide/",
         0,
         1736087682723
        ],
        [
         "dbfs:/databricks-datasets/delta-sharing/",
         "delta-sharing/",
         0,
         1736087682723
        ],
        [
         "dbfs:/databricks-datasets/flights/",
         "flights/",
         0,
         1736087682723
        ],
        [
         "dbfs:/databricks-datasets/flower_photos/",
         "flower_photos/",
         0,
         1736087682723
        ],
        [
         "dbfs:/databricks-datasets/flowers/",
         "flowers/",
         0,
         1736087682723
        ],
        [
         "dbfs:/databricks-datasets/genomics/",
         "genomics/",
         0,
         1736087682723
        ],
        [
         "dbfs:/databricks-datasets/hail/",
         "hail/",
         0,
         1736087682723
        ],
        [
         "dbfs:/databricks-datasets/identifying-campaign-effectiveness/",
         "identifying-campaign-effectiveness/",
         0,
         1736087682723
        ],
        [
         "dbfs:/databricks-datasets/inventory-reports/",
         "inventory-reports/",
         0,
         1736087682723
        ],
        [
         "dbfs:/databricks-datasets/iot/",
         "iot/",
         0,
         1736087682723
        ],
        [
         "dbfs:/databricks-datasets/iot-stream/",
         "iot-stream/",
         0,
         1736087682723
        ],
        [
         "dbfs:/databricks-datasets/learning-spark/",
         "learning-spark/",
         0,
         1736087682723
        ],
        [
         "dbfs:/databricks-datasets/learning-spark-v2/",
         "learning-spark-v2/",
         0,
         1736087682723
        ],
        [
         "dbfs:/databricks-datasets/lending-club-loan-stats/",
         "lending-club-loan-stats/",
         0,
         1736087682723
        ],
        [
         "dbfs:/databricks-datasets/med-images/",
         "med-images/",
         0,
         1736087682723
        ],
        [
         "dbfs:/databricks-datasets/media/",
         "media/",
         0,
         1736087682723
        ],
        [
         "dbfs:/databricks-datasets/mnist-digits/",
         "mnist-digits/",
         0,
         1736087682723
        ],
        [
         "dbfs:/databricks-datasets/news20.binary/",
         "news20.binary/",
         0,
         1736087682723
        ],
        [
         "dbfs:/databricks-datasets/nyctaxi/",
         "nyctaxi/",
         0,
         1736087682723
        ],
        [
         "dbfs:/databricks-datasets/nyctaxi-with-zipcodes/",
         "nyctaxi-with-zipcodes/",
         0,
         1736087682723
        ],
        [
         "dbfs:/databricks-datasets/online_retail/",
         "online_retail/",
         0,
         1736087682723
        ],
        [
         "dbfs:/databricks-datasets/overlap-join/",
         "overlap-join/",
         0,
         1736087682723
        ],
        [
         "dbfs:/databricks-datasets/power-plant/",
         "power-plant/",
         0,
         1736087682723
        ],
        [
         "dbfs:/databricks-datasets/retail-org/",
         "retail-org/",
         0,
         1736087682723
        ],
        [
         "dbfs:/databricks-datasets/rwe/",
         "rwe/",
         0,
         1736087682723
        ],
        [
         "dbfs:/databricks-datasets/sai-summit-2019-sf/",
         "sai-summit-2019-sf/",
         0,
         1736087682723
        ],
        [
         "dbfs:/databricks-datasets/sample_logs/",
         "sample_logs/",
         0,
         1736087682724
        ],
        [
         "dbfs:/databricks-datasets/samples/",
         "samples/",
         0,
         1736087682724
        ],
        [
         "dbfs:/databricks-datasets/sfo_customer_survey/",
         "sfo_customer_survey/",
         0,
         1736087682724
        ],
        [
         "dbfs:/databricks-datasets/sms_spam_collection/",
         "sms_spam_collection/",
         0,
         1736087682724
        ],
        [
         "dbfs:/databricks-datasets/songs/",
         "songs/",
         0,
         1736087682724
        ],
        [
         "dbfs:/databricks-datasets/structured-streaming/",
         "structured-streaming/",
         0,
         1736087682724
        ],
        [
         "dbfs:/databricks-datasets/timeseries/",
         "timeseries/",
         0,
         1736087682724
        ],
        [
         "dbfs:/databricks-datasets/tpch/",
         "tpch/",
         0,
         1736087682724
        ],
        [
         "dbfs:/databricks-datasets/travel_recommendations_realtime/",
         "travel_recommendations_realtime/",
         0,
         1736087682724
        ],
        [
         "dbfs:/databricks-datasets/warmup/",
         "warmup/",
         0,
         1736087682724
        ],
        [
         "dbfs:/databricks-datasets/weather/",
         "weather/",
         0,
         1736087682724
        ],
        [
         "dbfs:/databricks-datasets/wiki/",
         "wiki/",
         0,
         1736087682724
        ],
        [
         "dbfs:/databricks-datasets/wikipedia-datasets/",
         "wikipedia-datasets/",
         0,
         1736087682724
        ],
        [
         "dbfs:/databricks-datasets/wine-quality/",
         "wine-quality/",
         0,
         1736087682724
        ]
       ],
       "datasetInfos": [],
       "dbfsResultPath": null,
       "isJsonSchema": true,
       "metadata": {
        "isDbfsCommandResult": false
       },
       "overflow": false,
       "plotOptions": {
        "customPlotOptions": {},
        "displayType": "table",
        "pivotAggregation": null,
        "pivotColumns": null,
        "xColumns": null,
        "yColumns": null
       },
       "removedWidgets": [],
       "schema": [
        {
         "metadata": "{}",
         "name": "path",
         "type": "\"string\""
        },
        {
         "metadata": "{}",
         "name": "name",
         "type": "\"string\""
        },
        {
         "metadata": "{}",
         "name": "size",
         "type": "\"long\""
        },
        {
         "metadata": "{}",
         "name": "modificationTime",
         "type": "\"long\""
        }
       ],
       "type": "table"
      }
     },
     "output_type": "display_data"
    }
   ],
   "source": [
    "%fs\n",
    "ls databricks-datasets/"
   ]
  },
  {
   "cell_type": "code",
   "execution_count": 0,
   "metadata": {
    "application/vnd.databricks.v1+cell": {
     "cellMetadata": {
      "byteLimit": 2048000,
      "rowLimit": 10000
     },
     "inputWidgets": {},
     "nuid": "b7b3b284-9951-46d9-b361-59bdf7f29fa1",
     "showTitle": false,
     "tableResultSettingsMap": {},
     "title": ""
    }
   },
   "outputs": [
    {
     "output_type": "display_data",
     "data": {
      "text/plain": [
       "\u001B[0;36m  File \u001B[0;32m<command-219937945095663>, line 1\u001B[0;36m\u001B[0m\n",
       "\u001B[0;31m    echo 'Hello All'\u001B[0m\n",
       "\u001B[0m         ^\u001B[0m\n",
       "\u001B[0;31mSyntaxError\u001B[0m\u001B[0;31m:\u001B[0m invalid syntax\n"
      ]
     },
     "metadata": {
      "application/vnd.databricks.v1+output": {
       "addedWidgets": {},
       "arguments": {},
       "datasetInfos": [],
       "jupyterProps": {
        "ename": "SyntaxError",
        "evalue": "invalid syntax (command-219937945095663-207514933, line 1)"
       },
       "metadata": {
        "errorSummary": "<span class='ansi-red-fg'>SyntaxError</span>: invalid syntax (command-219937945095663-207514933, line 1)"
       },
       "removedWidgets": [],
       "sqlProps": null,
       "stackFrames": [
        "\u001B[0;36m  File \u001B[0;32m<command-219937945095663>, line 1\u001B[0;36m\u001B[0m\n\u001B[0;31m    echo 'Hello All'\u001B[0m\n\u001B[0m         ^\u001B[0m\n\u001B[0;31mSyntaxError\u001B[0m\u001B[0;31m:\u001B[0m invalid syntax\n"
       ],
       "type": "baseError"
      }
     },
     "output_type": "display_data"
    }
   ],
   "source": [
    "echo 'Hello All'"
   ]
  }
 ],
 "metadata": {
  "application/vnd.databricks.v1+notebook": {
   "computePreferences": null,
   "dashboards": [],
   "environmentMetadata": {
    "base_environment": "",
    "client": "1"
   },
   "language": "python",
   "notebookMetadata": {
    "mostRecentlyExecutedCommandWithImplicitDF": {
     "commandId": -1,
     "dataframes": [
      "_sqldf"
     ]
    },
    "pythonIndentUnit": 4
   },
   "notebookName": "magic_commands",
   "widgets": {}
  },
  "language_info": {
   "name": "python"
  }
 },
 "nbformat": 4,
 "nbformat_minor": 0
}